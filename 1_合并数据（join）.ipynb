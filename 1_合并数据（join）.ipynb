{
  "nbformat": 4,
  "nbformat_minor": 0,
  "metadata": {
    "colab": {
      "provenance": [],
      "authorship_tag": "ABX9TyPPJQXHC2I0yuIVK+ugQJ4q",
      "include_colab_link": true
    },
    "kernelspec": {
      "name": "python3",
      "display_name": "Python 3"
    },
    "language_info": {
      "name": "python"
    }
  },
  "cells": [
    {
      "cell_type": "markdown",
      "metadata": {
        "id": "view-in-github",
        "colab_type": "text"
      },
      "source": [
        "<a href=\"https://colab.research.google.com/github/Piaozan/29CM/blob/main/%E5%90%88%E5%B9%B6%E6%95%B0%E6%8D%AE%EF%BC%88join%EF%BC%89.ipynb\" target=\"_parent\"><img src=\"https://colab.research.google.com/assets/colab-badge.svg\" alt=\"Open In Colab\"/></a>"
      ]
    },
    {
      "cell_type": "code",
      "execution_count": null,
      "metadata": {
        "id": "CW05PEJH_pBV"
      },
      "outputs": [],
      "source": [
        "import numpy as np\n",
        "import pandas as pd\n",
        "import matplotlib.pyplot as plt\n",
        "import seaborn as sns\n",
        "import time\n",
        "import datetime\n",
        "\n",
        "plt.rc('font', family='NanumBarunGothic')\n",
        "pd.set_option('display.max_columns', None)\n",
        "\n",
        "import warnings\n",
        "warnings.filterwarnings(action='ignore')\n",
        "\n",
        "sns.set_palette(\"RdBu\")\n",
        "\n",
        "pd.set_option('display.max_columns', None)\n",
        "# pd.set_option('display.max_rows', None)"
      ]
    },
    {
      "cell_type": "code",
      "source": [
        "from google.colab import files\n",
        "from google.colab import drive\n",
        "drive.mount(\"/content/gdrive\")"
      ],
      "metadata": {
        "id": "dcmOsGEUASsE"
      },
      "execution_count": null,
      "outputs": []
    },
    {
      "cell_type": "code",
      "source": [
        "# 合并3个数据包\n",
        "\n",
        "event = pd.read_csv('/content/gdrive/MyDrive/final/data/commerce/sampled_events.csv')\n",
        "product = pd.read_csv('/content/gdrive/MyDrive/final/data/commerce/sampled_products.csv')\n",
        "user = pd.read_csv('/content/gdrive/MyDrive/final/data/commerce/sampled_users.csv')\n",
        "\n",
        "event_product = event.merge(product, on='item_no', how='left')\n",
        "commerce = event_product.merge(user, on='user_no', how='left')\n",
        "\n",
        "# 最后把合并数据取出为commerce\n",
        "commerce.to_csv('/content/gdrive/MyDrive/final/data/commerce/commerce.csv', index=False)"
      ],
      "metadata": {
        "id": "5qW68_46ASyd"
      },
      "execution_count": null,
      "outputs": []
    }
  ]
}
