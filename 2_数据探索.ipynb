{
  "cells": [
    {
      "cell_type": "markdown",
      "metadata": {
        "id": "view-in-github",
        "colab_type": "text"
      },
      "source": [
        "<a href=\"https://colab.research.google.com/github/Piaozan/29CM/blob/main/2_%E6%95%B0%E6%8D%AE%E6%8E%A2%E7%B4%A2.ipynb\" target=\"_parent\"><img src=\"https://colab.research.google.com/assets/colab-badge.svg\" alt=\"Open In Colab\"/></a>"
      ]
    },
    {
      "cell_type": "markdown",
      "metadata": {
        "id": "-8Iu0Ht4BFWU"
      },
      "source": [
        "# Import & read file"
      ]
    },
    {
      "cell_type": "code",
      "execution_count": null,
      "metadata": {
        "id": "cH30PQ7zCcMn"
      },
      "outputs": [],
      "source": [
        "import numpy as np\n",
        "import pandas as pd\n",
        "import matplotlib.pyplot as plt\n",
        "import seaborn as sns\n",
        "import time\n",
        "import datetime\n",
        "\n",
        "import warnings\n",
        "warnings.filterwarnings(action='ignore')\n",
        "\n",
        "sns.set_palette(\"RdBu\")\n",
        "\n",
        "pd.set_option('display.max_columns', None)\n",
        "# pd.set_option('display.max_rows', None)"
      ]
    },
    {
      "cell_type": "code",
      "execution_count": null,
      "metadata": {
        "colab": {
          "base_uri": "https://localhost:8080/"
        },
        "id": "k96JFVaICcS1",
        "outputId": "f573e58c-ea81-45be-898d-2f7fcb30be9e"
      },
      "outputs": [
        {
          "output_type": "stream",
          "name": "stdout",
          "text": [
            "Mounted at /content/gdrive\n"
          ]
        }
      ],
      "source": [
        "from google.colab import files\n",
        "from google.colab import drive\n",
        "drive.mount(\"/content/gdrive\")\n",
        "\n",
        "total = pd.read_csv('/content/gdrive/MyDrive/final/data/commerce/commerce.csv')"
      ]
    },
    {
      "cell_type": "markdown",
      "metadata": {
        "id": "EtNTmyx_CcWv"
      },
      "source": [
        "# 数据探索"
      ]
    },
    {
      "cell_type": "markdown",
      "metadata": {
        "id": "SXAS1eiZB6OY"
      },
      "source": [
        "## (1) 基础信息"
      ]
    },
    {
      "cell_type": "code",
      "execution_count": null,
      "metadata": {
        "colab": {
          "base_uri": "https://localhost:8080/",
          "height": 297
        },
        "id": "S4TO_wRL7g_u",
        "outputId": "0ba38998-b343-41fc-d4db-da8dfdbf9632"
      },
      "outputs": [
        {
          "output_type": "execute_result",
          "data": {
            "text/plain": [
              "                         session_id             event_timestamp   event_name  \\\n",
              "0  c47e93742387750baba2e238558fa12d     2021-06-03 13:00:01.845   click_item   \n",
              "1  f482aba7e1b76564c5404d96650f0dbd  2021-06-03 13:00:01.920001  add_to_cart   \n",
              "\n",
              "                    user_no                   item_no device_type  \\\n",
              "0  +9eODQMZ8YgXQZJJAo56nw==  4KwsZkXDulM0oQ2sTVSlYQ==      mobile   \n",
              "1  qik2Oa/1SQAjHeR64GLY0g==  +3vED/NUxtVk4Dvc0QUahA==      mobile   \n",
              "\n",
              "  mobile_brand_name mobile_model_name mobile_marketing_name  \\\n",
              "0           Samsung          SM-N960N          Galaxy Note9   \n",
              "1           Samsung          SM-G977N         Galaxy S10 5G   \n",
              "\n",
              "  operating_system_version      country       region platform  \\\n",
              "0               Android 10  South Korea  Gyeonggi-do  ANDROID   \n",
              "1               Android 11  South Korea        Seoul  ANDROID   \n",
              "\n",
              "                                     item_name  \\\n",
              "0                              남성) 코튼 리넨 이지 쇼츠   \n",
              "1  Puppy's delight short sleeve T-shirts white   \n",
              "\n",
              "                         image_name    price  category1_code category1_name  \\\n",
              "0  ecb06f34b6d8c4c521221aebbcc0e934  29900.0       243100100             의류   \n",
              "1  9911a0e7dc8296f2fdccebb3bbbfa615  38000.0       243100100             의류   \n",
              "\n",
              "   category2_code category2_name  category3_code category3_name  brand_no  \\\n",
              "0       243104100             하의       243104101             바지   13901.0   \n",
              "1       243102100             상의       243102103            티셔츠    7604.0   \n",
              "\n",
              "   brand_name  birth_date gender  \n",
              "0      TOPTEN  1969-04-05      F  \n",
              "1  Wave union  1989-02-22      F  "
            ],
            "text/html": [
              "\n",
              "  <div id=\"df-03b44e80-8654-49bb-a603-7fe5ae257c43\">\n",
              "    <div class=\"colab-df-container\">\n",
              "      <div>\n",
              "<style scoped>\n",
              "    .dataframe tbody tr th:only-of-type {\n",
              "        vertical-align: middle;\n",
              "    }\n",
              "\n",
              "    .dataframe tbody tr th {\n",
              "        vertical-align: top;\n",
              "    }\n",
              "\n",
              "    .dataframe thead th {\n",
              "        text-align: right;\n",
              "    }\n",
              "</style>\n",
              "<table border=\"1\" class=\"dataframe\">\n",
              "  <thead>\n",
              "    <tr style=\"text-align: right;\">\n",
              "      <th></th>\n",
              "      <th>session_id</th>\n",
              "      <th>event_timestamp</th>\n",
              "      <th>event_name</th>\n",
              "      <th>user_no</th>\n",
              "      <th>item_no</th>\n",
              "      <th>device_type</th>\n",
              "      <th>mobile_brand_name</th>\n",
              "      <th>mobile_model_name</th>\n",
              "      <th>mobile_marketing_name</th>\n",
              "      <th>operating_system_version</th>\n",
              "      <th>country</th>\n",
              "      <th>region</th>\n",
              "      <th>platform</th>\n",
              "      <th>item_name</th>\n",
              "      <th>image_name</th>\n",
              "      <th>price</th>\n",
              "      <th>category1_code</th>\n",
              "      <th>category1_name</th>\n",
              "      <th>category2_code</th>\n",
              "      <th>category2_name</th>\n",
              "      <th>category3_code</th>\n",
              "      <th>category3_name</th>\n",
              "      <th>brand_no</th>\n",
              "      <th>brand_name</th>\n",
              "      <th>birth_date</th>\n",
              "      <th>gender</th>\n",
              "    </tr>\n",
              "  </thead>\n",
              "  <tbody>\n",
              "    <tr>\n",
              "      <th>0</th>\n",
              "      <td>c47e93742387750baba2e238558fa12d</td>\n",
              "      <td>2021-06-03 13:00:01.845</td>\n",
              "      <td>click_item</td>\n",
              "      <td>+9eODQMZ8YgXQZJJAo56nw==</td>\n",
              "      <td>4KwsZkXDulM0oQ2sTVSlYQ==</td>\n",
              "      <td>mobile</td>\n",
              "      <td>Samsung</td>\n",
              "      <td>SM-N960N</td>\n",
              "      <td>Galaxy Note9</td>\n",
              "      <td>Android 10</td>\n",
              "      <td>South Korea</td>\n",
              "      <td>Gyeonggi-do</td>\n",
              "      <td>ANDROID</td>\n",
              "      <td>남성) 코튼 리넨 이지 쇼츠</td>\n",
              "      <td>ecb06f34b6d8c4c521221aebbcc0e934</td>\n",
              "      <td>29900.0</td>\n",
              "      <td>243100100</td>\n",
              "      <td>의류</td>\n",
              "      <td>243104100</td>\n",
              "      <td>하의</td>\n",
              "      <td>243104101</td>\n",
              "      <td>바지</td>\n",
              "      <td>13901.0</td>\n",
              "      <td>TOPTEN</td>\n",
              "      <td>1969-04-05</td>\n",
              "      <td>F</td>\n",
              "    </tr>\n",
              "    <tr>\n",
              "      <th>1</th>\n",
              "      <td>f482aba7e1b76564c5404d96650f0dbd</td>\n",
              "      <td>2021-06-03 13:00:01.920001</td>\n",
              "      <td>add_to_cart</td>\n",
              "      <td>qik2Oa/1SQAjHeR64GLY0g==</td>\n",
              "      <td>+3vED/NUxtVk4Dvc0QUahA==</td>\n",
              "      <td>mobile</td>\n",
              "      <td>Samsung</td>\n",
              "      <td>SM-G977N</td>\n",
              "      <td>Galaxy S10 5G</td>\n",
              "      <td>Android 11</td>\n",
              "      <td>South Korea</td>\n",
              "      <td>Seoul</td>\n",
              "      <td>ANDROID</td>\n",
              "      <td>Puppy's delight short sleeve T-shirts white</td>\n",
              "      <td>9911a0e7dc8296f2fdccebb3bbbfa615</td>\n",
              "      <td>38000.0</td>\n",
              "      <td>243100100</td>\n",
              "      <td>의류</td>\n",
              "      <td>243102100</td>\n",
              "      <td>상의</td>\n",
              "      <td>243102103</td>\n",
              "      <td>티셔츠</td>\n",
              "      <td>7604.0</td>\n",
              "      <td>Wave union</td>\n",
              "      <td>1989-02-22</td>\n",
              "      <td>F</td>\n",
              "    </tr>\n",
              "  </tbody>\n",
              "</table>\n",
              "</div>\n",
              "      <button class=\"colab-df-convert\" onclick=\"convertToInteractive('df-03b44e80-8654-49bb-a603-7fe5ae257c43')\"\n",
              "              title=\"Convert this dataframe to an interactive table.\"\n",
              "              style=\"display:none;\">\n",
              "        \n",
              "  <svg xmlns=\"http://www.w3.org/2000/svg\" height=\"24px\"viewBox=\"0 0 24 24\"\n",
              "       width=\"24px\">\n",
              "    <path d=\"M0 0h24v24H0V0z\" fill=\"none\"/>\n",
              "    <path d=\"M18.56 5.44l.94 2.06.94-2.06 2.06-.94-2.06-.94-.94-2.06-.94 2.06-2.06.94zm-11 1L8.5 8.5l.94-2.06 2.06-.94-2.06-.94L8.5 2.5l-.94 2.06-2.06.94zm10 10l.94 2.06.94-2.06 2.06-.94-2.06-.94-.94-2.06-.94 2.06-2.06.94z\"/><path d=\"M17.41 7.96l-1.37-1.37c-.4-.4-.92-.59-1.43-.59-.52 0-1.04.2-1.43.59L10.3 9.45l-7.72 7.72c-.78.78-.78 2.05 0 2.83L4 21.41c.39.39.9.59 1.41.59.51 0 1.02-.2 1.41-.59l7.78-7.78 2.81-2.81c.8-.78.8-2.07 0-2.86zM5.41 20L4 18.59l7.72-7.72 1.47 1.35L5.41 20z\"/>\n",
              "  </svg>\n",
              "      </button>\n",
              "      \n",
              "  <style>\n",
              "    .colab-df-container {\n",
              "      display:flex;\n",
              "      flex-wrap:wrap;\n",
              "      gap: 12px;\n",
              "    }\n",
              "\n",
              "    .colab-df-convert {\n",
              "      background-color: #E8F0FE;\n",
              "      border: none;\n",
              "      border-radius: 50%;\n",
              "      cursor: pointer;\n",
              "      display: none;\n",
              "      fill: #1967D2;\n",
              "      height: 32px;\n",
              "      padding: 0 0 0 0;\n",
              "      width: 32px;\n",
              "    }\n",
              "\n",
              "    .colab-df-convert:hover {\n",
              "      background-color: #E2EBFA;\n",
              "      box-shadow: 0px 1px 2px rgba(60, 64, 67, 0.3), 0px 1px 3px 1px rgba(60, 64, 67, 0.15);\n",
              "      fill: #174EA6;\n",
              "    }\n",
              "\n",
              "    [theme=dark] .colab-df-convert {\n",
              "      background-color: #3B4455;\n",
              "      fill: #D2E3FC;\n",
              "    }\n",
              "\n",
              "    [theme=dark] .colab-df-convert:hover {\n",
              "      background-color: #434B5C;\n",
              "      box-shadow: 0px 1px 3px 1px rgba(0, 0, 0, 0.15);\n",
              "      filter: drop-shadow(0px 1px 2px rgba(0, 0, 0, 0.3));\n",
              "      fill: #FFFFFF;\n",
              "    }\n",
              "  </style>\n",
              "\n",
              "      <script>\n",
              "        const buttonEl =\n",
              "          document.querySelector('#df-03b44e80-8654-49bb-a603-7fe5ae257c43 button.colab-df-convert');\n",
              "        buttonEl.style.display =\n",
              "          google.colab.kernel.accessAllowed ? 'block' : 'none';\n",
              "\n",
              "        async function convertToInteractive(key) {\n",
              "          const element = document.querySelector('#df-03b44e80-8654-49bb-a603-7fe5ae257c43');\n",
              "          const dataTable =\n",
              "            await google.colab.kernel.invokeFunction('convertToInteractive',\n",
              "                                                     [key], {});\n",
              "          if (!dataTable) return;\n",
              "\n",
              "          const docLinkHtml = 'Like what you see? Visit the ' +\n",
              "            '<a target=\"_blank\" href=https://colab.research.google.com/notebooks/data_table.ipynb>data table notebook</a>'\n",
              "            + ' to learn more about interactive tables.';\n",
              "          element.innerHTML = '';\n",
              "          dataTable['output_type'] = 'display_data';\n",
              "          await google.colab.output.renderOutput(dataTable, element);\n",
              "          const docLink = document.createElement('div');\n",
              "          docLink.innerHTML = docLinkHtml;\n",
              "          element.appendChild(docLink);\n",
              "        }\n",
              "      </script>\n",
              "    </div>\n",
              "  </div>\n",
              "  "
            ]
          },
          "metadata": {},
          "execution_count": 3
        }
      ],
      "source": [
        "total.head(2)"
      ]
    },
    {
      "cell_type": "code",
      "execution_count": null,
      "metadata": {
        "colab": {
          "base_uri": "https://localhost:8080/"
        },
        "id": "RGMiOEyM7hDC",
        "outputId": "02f2faba-a7ac-49ab-aa20-ade9a5c631e8"
      },
      "outputs": [
        {
          "output_type": "execute_result",
          "data": {
            "text/plain": [
              "session_id                        0\n",
              "event_timestamp                   0\n",
              "event_name                        0\n",
              "user_no                           0\n",
              "item_no                           0\n",
              "device_type                       0\n",
              "mobile_brand_name              3594\n",
              "mobile_model_name              3594\n",
              "mobile_marketing_name       4250941\n",
              "operating_system_version          0\n",
              "country                          12\n",
              "region                         2195\n",
              "platform                          0\n",
              "item_name                         0\n",
              "image_name                        0\n",
              "price                             0\n",
              "category1_code                    0\n",
              "category1_name                    0\n",
              "category2_code                    0\n",
              "category2_name                    0\n",
              "category3_code                    0\n",
              "category3_name                    0\n",
              "brand_no                        171\n",
              "brand_name                      209\n",
              "birth_date                   296901\n",
              "gender                       664253\n",
              "dtype: int64"
            ]
          },
          "metadata": {},
          "execution_count": 4
        }
      ],
      "source": [
        "# 缺失值探索\n",
        "total.isnull().sum()"
      ]
    },
    {
      "cell_type": "markdown",
      "metadata": {
        "id": "lhasPwVT7hGC"
      },
      "source": [
        "- mobile_brand_name, mobile_model_name 具有相同缺失值\n",
        "- mobile_marketing_name 由于苹果保护用户隐私问题导致的缺失值\n",
        "- birth_date, gender 具有大量的缺失值\n",
        "- 所有缺失值随后将会处理"
      ]
    },
    {
      "cell_type": "code",
      "execution_count": null,
      "metadata": {
        "colab": {
          "base_uri": "https://localhost:8080/"
        },
        "id": "SpTiwmyG57f2",
        "outputId": "708178f6-c299-4101-af28-d5fd5c6719da"
      },
      "outputs": [
        {
          "output_type": "stream",
          "name": "stdout",
          "text": [
            "<class 'pandas.core.frame.DataFrame'>\n",
            "RangeIndex: 5880407 entries, 0 to 5880406\n",
            "Data columns (total 26 columns):\n",
            " #   Column                    Dtype  \n",
            "---  ------                    -----  \n",
            " 0   session_id                object \n",
            " 1   event_timestamp           object \n",
            " 2   event_name                object \n",
            " 3   user_no                   object \n",
            " 4   item_no                   object \n",
            " 5   device_type               object \n",
            " 6   mobile_brand_name         object \n",
            " 7   mobile_model_name         object \n",
            " 8   mobile_marketing_name     object \n",
            " 9   operating_system_version  object \n",
            " 10  country                   object \n",
            " 11  region                    object \n",
            " 12  platform                  object \n",
            " 13  item_name                 object \n",
            " 14  image_name                object \n",
            " 15  price                     float64\n",
            " 16  category1_code            int64  \n",
            " 17  category1_name            object \n",
            " 18  category2_code            int64  \n",
            " 19  category2_name            object \n",
            " 20  category3_code            int64  \n",
            " 21  category3_name            object \n",
            " 22  brand_no                  float64\n",
            " 23  brand_name                object \n",
            " 24  birth_date                object \n",
            " 25  gender                    object \n",
            "dtypes: float64(2), int64(3), object(21)\n",
            "memory usage: 1.1+ GB\n"
          ]
        }
      ],
      "source": [
        "# info\n",
        "total.info()"
      ]
    },
    {
      "cell_type": "markdown",
      "metadata": {
        "id": "-ZB177G_BaEW"
      },
      "source": [
        "- event_timestamp, birth_date 为时间, 需要改成datetime的形式"
      ]
    },
    {
      "cell_type": "code",
      "execution_count": null,
      "metadata": {
        "colab": {
          "base_uri": "https://localhost:8080/",
          "height": 300
        },
        "id": "s9clNzQQ57iw",
        "outputId": "086ec978-c0e0-4881-e659-25983df70496"
      },
      "outputs": [
        {
          "output_type": "execute_result",
          "data": {
            "text/plain": [
              "              price  category1_code  category2_code  category3_code  \\\n",
              "count  5.880407e+06    5.880407e+06    5.880407e+06    5.880407e+06   \n",
              "mean   9.465186e+04    2.442333e+08    2.442026e+08    2.442026e+08   \n",
              "std    1.169249e+05    2.390334e+06    2.278878e+06    2.278884e+06   \n",
              "min    0.000000e+00    2.341001e+08    2.341051e+08    2.341051e+08   \n",
              "25%    3.970000e+04    2.431001e+08    2.431021e+08    2.431021e+08   \n",
              "50%    6.900000e+04    2.431001e+08    2.431041e+08    2.431041e+08   \n",
              "75%    1.190000e+05    2.441001e+08    2.441021e+08    2.441021e+08   \n",
              "max    1.429800e+07    2.671001e+08    2.591031e+08    2.591031e+08   \n",
              "\n",
              "           brand_no  \n",
              "count  5.880236e+06  \n",
              "mean   7.254326e+03  \n",
              "std    4.307777e+03  \n",
              "min    4.410000e+02  \n",
              "25%    3.268000e+03  \n",
              "50%    6.513000e+03  \n",
              "75%    1.135900e+04  \n",
              "max    1.573700e+04  "
            ],
            "text/html": [
              "\n",
              "  <div id=\"df-0954b9b8-cd50-4036-9c0f-4035d101e1da\">\n",
              "    <div class=\"colab-df-container\">\n",
              "      <div>\n",
              "<style scoped>\n",
              "    .dataframe tbody tr th:only-of-type {\n",
              "        vertical-align: middle;\n",
              "    }\n",
              "\n",
              "    .dataframe tbody tr th {\n",
              "        vertical-align: top;\n",
              "    }\n",
              "\n",
              "    .dataframe thead th {\n",
              "        text-align: right;\n",
              "    }\n",
              "</style>\n",
              "<table border=\"1\" class=\"dataframe\">\n",
              "  <thead>\n",
              "    <tr style=\"text-align: right;\">\n",
              "      <th></th>\n",
              "      <th>price</th>\n",
              "      <th>category1_code</th>\n",
              "      <th>category2_code</th>\n",
              "      <th>category3_code</th>\n",
              "      <th>brand_no</th>\n",
              "    </tr>\n",
              "  </thead>\n",
              "  <tbody>\n",
              "    <tr>\n",
              "      <th>count</th>\n",
              "      <td>5.880407e+06</td>\n",
              "      <td>5.880407e+06</td>\n",
              "      <td>5.880407e+06</td>\n",
              "      <td>5.880407e+06</td>\n",
              "      <td>5.880236e+06</td>\n",
              "    </tr>\n",
              "    <tr>\n",
              "      <th>mean</th>\n",
              "      <td>9.465186e+04</td>\n",
              "      <td>2.442333e+08</td>\n",
              "      <td>2.442026e+08</td>\n",
              "      <td>2.442026e+08</td>\n",
              "      <td>7.254326e+03</td>\n",
              "    </tr>\n",
              "    <tr>\n",
              "      <th>std</th>\n",
              "      <td>1.169249e+05</td>\n",
              "      <td>2.390334e+06</td>\n",
              "      <td>2.278878e+06</td>\n",
              "      <td>2.278884e+06</td>\n",
              "      <td>4.307777e+03</td>\n",
              "    </tr>\n",
              "    <tr>\n",
              "      <th>min</th>\n",
              "      <td>0.000000e+00</td>\n",
              "      <td>2.341001e+08</td>\n",
              "      <td>2.341051e+08</td>\n",
              "      <td>2.341051e+08</td>\n",
              "      <td>4.410000e+02</td>\n",
              "    </tr>\n",
              "    <tr>\n",
              "      <th>25%</th>\n",
              "      <td>3.970000e+04</td>\n",
              "      <td>2.431001e+08</td>\n",
              "      <td>2.431021e+08</td>\n",
              "      <td>2.431021e+08</td>\n",
              "      <td>3.268000e+03</td>\n",
              "    </tr>\n",
              "    <tr>\n",
              "      <th>50%</th>\n",
              "      <td>6.900000e+04</td>\n",
              "      <td>2.431001e+08</td>\n",
              "      <td>2.431041e+08</td>\n",
              "      <td>2.431041e+08</td>\n",
              "      <td>6.513000e+03</td>\n",
              "    </tr>\n",
              "    <tr>\n",
              "      <th>75%</th>\n",
              "      <td>1.190000e+05</td>\n",
              "      <td>2.441001e+08</td>\n",
              "      <td>2.441021e+08</td>\n",
              "      <td>2.441021e+08</td>\n",
              "      <td>1.135900e+04</td>\n",
              "    </tr>\n",
              "    <tr>\n",
              "      <th>max</th>\n",
              "      <td>1.429800e+07</td>\n",
              "      <td>2.671001e+08</td>\n",
              "      <td>2.591031e+08</td>\n",
              "      <td>2.591031e+08</td>\n",
              "      <td>1.573700e+04</td>\n",
              "    </tr>\n",
              "  </tbody>\n",
              "</table>\n",
              "</div>\n",
              "      <button class=\"colab-df-convert\" onclick=\"convertToInteractive('df-0954b9b8-cd50-4036-9c0f-4035d101e1da')\"\n",
              "              title=\"Convert this dataframe to an interactive table.\"\n",
              "              style=\"display:none;\">\n",
              "        \n",
              "  <svg xmlns=\"http://www.w3.org/2000/svg\" height=\"24px\"viewBox=\"0 0 24 24\"\n",
              "       width=\"24px\">\n",
              "    <path d=\"M0 0h24v24H0V0z\" fill=\"none\"/>\n",
              "    <path d=\"M18.56 5.44l.94 2.06.94-2.06 2.06-.94-2.06-.94-.94-2.06-.94 2.06-2.06.94zm-11 1L8.5 8.5l.94-2.06 2.06-.94-2.06-.94L8.5 2.5l-.94 2.06-2.06.94zm10 10l.94 2.06.94-2.06 2.06-.94-2.06-.94-.94-2.06-.94 2.06-2.06.94z\"/><path d=\"M17.41 7.96l-1.37-1.37c-.4-.4-.92-.59-1.43-.59-.52 0-1.04.2-1.43.59L10.3 9.45l-7.72 7.72c-.78.78-.78 2.05 0 2.83L4 21.41c.39.39.9.59 1.41.59.51 0 1.02-.2 1.41-.59l7.78-7.78 2.81-2.81c.8-.78.8-2.07 0-2.86zM5.41 20L4 18.59l7.72-7.72 1.47 1.35L5.41 20z\"/>\n",
              "  </svg>\n",
              "      </button>\n",
              "      \n",
              "  <style>\n",
              "    .colab-df-container {\n",
              "      display:flex;\n",
              "      flex-wrap:wrap;\n",
              "      gap: 12px;\n",
              "    }\n",
              "\n",
              "    .colab-df-convert {\n",
              "      background-color: #E8F0FE;\n",
              "      border: none;\n",
              "      border-radius: 50%;\n",
              "      cursor: pointer;\n",
              "      display: none;\n",
              "      fill: #1967D2;\n",
              "      height: 32px;\n",
              "      padding: 0 0 0 0;\n",
              "      width: 32px;\n",
              "    }\n",
              "\n",
              "    .colab-df-convert:hover {\n",
              "      background-color: #E2EBFA;\n",
              "      box-shadow: 0px 1px 2px rgba(60, 64, 67, 0.3), 0px 1px 3px 1px rgba(60, 64, 67, 0.15);\n",
              "      fill: #174EA6;\n",
              "    }\n",
              "\n",
              "    [theme=dark] .colab-df-convert {\n",
              "      background-color: #3B4455;\n",
              "      fill: #D2E3FC;\n",
              "    }\n",
              "\n",
              "    [theme=dark] .colab-df-convert:hover {\n",
              "      background-color: #434B5C;\n",
              "      box-shadow: 0px 1px 3px 1px rgba(0, 0, 0, 0.15);\n",
              "      filter: drop-shadow(0px 1px 2px rgba(0, 0, 0, 0.3));\n",
              "      fill: #FFFFFF;\n",
              "    }\n",
              "  </style>\n",
              "\n",
              "      <script>\n",
              "        const buttonEl =\n",
              "          document.querySelector('#df-0954b9b8-cd50-4036-9c0f-4035d101e1da button.colab-df-convert');\n",
              "        buttonEl.style.display =\n",
              "          google.colab.kernel.accessAllowed ? 'block' : 'none';\n",
              "\n",
              "        async function convertToInteractive(key) {\n",
              "          const element = document.querySelector('#df-0954b9b8-cd50-4036-9c0f-4035d101e1da');\n",
              "          const dataTable =\n",
              "            await google.colab.kernel.invokeFunction('convertToInteractive',\n",
              "                                                     [key], {});\n",
              "          if (!dataTable) return;\n",
              "\n",
              "          const docLinkHtml = 'Like what you see? Visit the ' +\n",
              "            '<a target=\"_blank\" href=https://colab.research.google.com/notebooks/data_table.ipynb>data table notebook</a>'\n",
              "            + ' to learn more about interactive tables.';\n",
              "          element.innerHTML = '';\n",
              "          dataTable['output_type'] = 'display_data';\n",
              "          await google.colab.output.renderOutput(dataTable, element);\n",
              "          const docLink = document.createElement('div');\n",
              "          docLink.innerHTML = docLinkHtml;\n",
              "          element.appendChild(docLink);\n",
              "        }\n",
              "      </script>\n",
              "    </div>\n",
              "  </div>\n",
              "  "
            ]
          },
          "metadata": {},
          "execution_count": 6
        }
      ],
      "source": [
        "total.describe()"
      ]
    },
    {
      "cell_type": "markdown",
      "metadata": {
        "id": "sI_zD-NE6RmJ"
      },
      "source": [
        "## (2) Feature 分类"
      ]
    },
    {
      "cell_type": "markdown",
      "metadata": {
        "id": "NUKhc8p7BtgH"
      },
      "source": [
        "- 数值型: price\n",
        "- 分类型: event_name, device_type, country, platform, item_name, category1_name, brand_name, gender ......\n",
        "- 时序型: event_timestamp, birth_date"
      ]
    },
    {
      "cell_type": "markdown",
      "metadata": {
        "id": "stcpPyUlHP43"
      },
      "source": [
        "### 用户"
      ]
    },
    {
      "cell_type": "code",
      "execution_count": null,
      "metadata": {
        "colab": {
          "base_uri": "https://localhost:8080/"
        },
        "id": "W3SJlWjeHU5a",
        "outputId": "182c02e1-bed7-4d2f-86d8-515750f903de"
      },
      "outputs": [
        {
          "output_type": "stream",
          "name": "stdout",
          "text": [
            "总用户数:  254958\n",
            "购买用户数: 146904\n",
            "非购买用户数:  108054\n"
          ]
        }
      ],
      "source": [
        "print('总用户数: ',total['user_no'].nunique())\n",
        "print('购买用户数:', total[total['event_name'] == 'purchase_success']['user_no'].nunique())\n",
        "print('非购买用户数: ', total['user_no'].nunique() - total[total['event_name'] == 'purchase_success']['user_no'].nunique())"
      ]
    },
    {
      "cell_type": "markdown",
      "metadata": {
        "id": "IOmAidSCNwnH"
      },
      "source": [
        "### 商品"
      ]
    },
    {
      "cell_type": "code",
      "execution_count": null,
      "metadata": {
        "colab": {
          "base_uri": "https://localhost:8080/"
        },
        "id": "yTrcC5S0Nz9P",
        "outputId": "8acf3326-c401-4d94-afad-49527bf7f116"
      },
      "outputs": [
        {
          "output_type": "stream",
          "name": "stdout",
          "text": [
            "总商品数:  283326\n",
            "被购买的商品数: 69498\n",
            "未被购买的商品数:  213828\n"
          ]
        }
      ],
      "source": [
        "print('总商品数: ', total['item_no'].nunique())\n",
        "print('被购买的商品数:', total[total['event_name'] == 'purchase_success']['item_no'].nunique())\n",
        "print('未被购买的商品数: ', total['item_no'].nunique() - total[total['event_name'] == 'purchase_success']['item_no'].nunique())"
      ]
    },
    {
      "cell_type": "markdown",
      "metadata": {
        "id": "P7w10YZSBtjh"
      },
      "source": [
        "### 行为分类 -> 分类型"
      ]
    },
    {
      "cell_type": "code",
      "execution_count": null,
      "metadata": {
        "colab": {
          "base_uri": "https://localhost:8080/",
          "height": 292
        },
        "id": "eGGrh9QXBtmd",
        "outputId": "17422089-725e-49f3-dfcd-712293d676c3"
      },
      "outputs": [
        {
          "output_type": "display_data",
          "data": {
            "text/plain": [
              "<Figure size 432x288 with 1 Axes>"
            ],
            "image/png": "[encoded data removed]"
          },
          "metadata": {
            "needs_background": "light"
          }
        }
      ],
      "source": [
        "f,ax = plt.subplots(1,1)\n",
        "sns.countplot(x='event_name', data=total)\n",
        "plt.show()"
      ]
    },
    {
      "cell_type": "markdown",
      "metadata": {
        "id": "azxlQVin6RpC"
      },
      "source": [
        "- 具有大量点击数，随后是支付、购物车、收藏\n",
        "- 以AARRR漏斗模型考虑，一般购买行为将会是最低的，可是本数据的支付行为多于购物车或者收藏\n",
        "- 因此，本数据对此有可能存在一些问题。"
      ]
    },
    {
      "cell_type": "markdown",
      "metadata": {
        "id": "wh2-DvIM6RsQ"
      },
      "source": [
        "### platform（渠道） -> 分类型"
      ]
    },
    {
      "cell_type": "code",
      "execution_count": null,
      "metadata": {
        "colab": {
          "base_uri": "https://localhost:8080/"
        },
        "id": "DPW1EMw1Plgi",
        "outputId": "c062d92b-0e0f-4827-d3f8-147d68cab58c"
      },
      "outputs": [
        {
          "output_type": "execute_result",
          "data": {
            "text/plain": [
              "IOS        72.13\n",
              "ANDROID    27.87\n",
              "Name: platform, dtype: float64"
            ]
          },
          "metadata": {},
          "execution_count": 11
        }
      ],
      "source": [
        "round(total['platform'].value_counts(normalize=True) * 100, 2)"
      ]
    },
    {
      "cell_type": "code",
      "execution_count": null,
      "metadata": {
        "colab": {
          "base_uri": "https://localhost:8080/",
          "height": 290
        },
        "id": "mqQ1yuwa6Rvy",
        "outputId": "fbe4290d-1685-4f18-ad86-19f61dca9962"
      },
      "outputs": [
        {
          "output_type": "display_data",
          "data": {
            "text/plain": [
              "<Figure size 432x288 with 1 Axes>"
            ],
            "image/png": "[encoded data removed]"
          },
          "metadata": {
            "needs_background": "light"
          }
        }
      ],
      "source": [
        "f,ax = plt.subplots(1,1)\n",
        "sns.countplot(x='platform', data=total)\n",
        "plt.show()"
      ]
    },
    {
      "cell_type": "markdown",
      "metadata": {
        "id": "HK1Y8HKIREeH"
      },
      "source": [
        "- 苹果用户 : 安卓用户 = 7:3"
      ]
    },
    {
      "cell_type": "code",
      "execution_count": null,
      "metadata": {
        "colab": {
          "base_uri": "https://localhost:8080/"
        },
        "id": "cI2aZUPyDu5v",
        "outputId": "89452ba7-ac13-47f8-c9dd-39cb8b4bd5d8"
      },
      "outputs": [
        {
          "output_type": "execute_result",
          "data": {
            "text/plain": [
              "platform  event_name      \n",
              "ANDROID   add_to_cart          353143\n",
              "          click_item           956858\n",
              "          like_item            216320\n",
              "          purchase_success     112680\n",
              "IOS       click_item          3888833\n",
              "          purchase_success     352573\n",
              "Name: event_name, dtype: int64"
            ]
          },
          "metadata": {},
          "execution_count": 13
        }
      ],
      "source": [
        "# 渠道与行为结合\n",
        "total.groupby(['platform','event_name'])['event_name'].count()"
      ]
    },
    {
      "cell_type": "markdown",
      "metadata": {
        "id": "_NyxSyzLDvE_"
      },
      "source": [
        "- 可知，苹果用户数据没有购物车&收藏这个行为\n",
        "- 然而，该电商的70%的用户都为苹果用户\n",
        "- 因此，本分析首先排除购物车以及收藏这个行为的分析，只关注点击与支付该行为"
      ]
    },
    {
      "cell_type": "markdown",
      "metadata": {
        "id": "L26n-3HB6RzO"
      },
      "source": [
        "### 商品分类(第一阶段) -> 分类型"
      ]
    },
    {
      "cell_type": "code",
      "execution_count": null,
      "metadata": {
        "id": "OOhuM4prJwLn"
      },
      "outputs": [],
      "source": [
        "# 把商品分类的韩文改成中文\n",
        "total['category1_name'] = total['category1_name'].map({'의류':'服装', \n",
        "                                                       '잡화':'杂货',\n",
        "                                                       '생활/건강':'生活/健康',\n",
        "                                                       '가구/인테리어':'家居',\n",
        "                                                       '디지털/가전':'数码/家电',\n",
        "                                                       '화장품/미용':'化妆品/美容',\n",
        "                                                       '식품':'食品',\n",
        "                                                       '스포츠/레저':'运动/休闲',\n",
        "                                                       '컬처':'文化',\n",
        "                                                       '키즈':'儿童',\n",
        "                                                       '반려동물':'家畜',\n",
        "                                                       '성년의날':'成人节'})"
      ]
    },
    {
      "cell_type": "code",
      "execution_count": null,
      "metadata": {
        "colab": {
          "base_uri": "https://localhost:8080/"
        },
        "id": "XX6J04n-LURS",
        "outputId": "a2bc22e0-0e27-43cc-a884-5a3bb89286d8"
      },
      "outputs": [
        {
          "output_type": "execute_result",
          "data": {
            "text/plain": [
              "服装        60.65\n",
              "杂货        25.15\n",
              "生活/健康      4.49\n",
              "家居         3.59\n",
              "数码/家电      2.33\n",
              "化妆品/美容     1.26\n",
              "食品         0.81\n",
              "运动/休闲      0.75\n",
              "文化         0.56\n",
              "儿童         0.19\n",
              "家畜         0.16\n",
              "成人节        0.06\n",
              "Name: category1_name, dtype: float64"
            ]
          },
          "metadata": {},
          "execution_count": 15
        }
      ],
      "source": [
        "round(total['category1_name'].value_counts(normalize=True) * 100, 2)"
      ]
    },
    {
      "cell_type": "code",
      "execution_count": null,
      "metadata": {
        "colab": {
          "base_uri": "https://localhost:8080/",
          "height": 316
        },
        "id": "KsgUzswxRkTq",
        "outputId": "7eafaf7d-8428-4318-dce6-cd008d890188"
      },
      "outputs": [
        {
          "output_type": "display_data",
          "data": {
            "text/plain": [
              "<Figure size 432x288 with 1 Axes>"
            ],
            "image/png": "[encoded data removed]"
          },
          "metadata": {
            "needs_background": "light"
          }
        }
      ],
      "source": [
        "f,ax = plt.subplots(1,1)\n",
        "sns.countplot(x='category1_name', data=total)\n",
        "plt.xticks(rotation=70)\n",
        "plt.show()"
      ]
    },
    {
      "cell_type": "markdown",
      "metadata": {
        "id": "_82-yqo_RkWr"
      },
      "source": [
        "- 可知，服装与杂货类的商品占总用户行为的85%以上"
      ]
    },
    {
      "cell_type": "code",
      "execution_count": null,
      "metadata": {
        "colab": {
          "base_uri": "https://localhost:8080/"
        },
        "id": "zQKVRW1NRkcz",
        "outputId": "b88fffcb-8d6a-46e3-8e23-00fa53880240"
      },
      "outputs": [
        {
          "output_type": "execute_result",
          "data": {
            "text/plain": [
              "服装       50.26\n",
              "杂货       24.98\n",
              "生活/健康     7.33\n",
              "家居        4.04\n",
              "数码/家电     3.85\n",
              "Name: category1_name, dtype: float64"
            ]
          },
          "metadata": {},
          "execution_count": 17
        }
      ],
      "source": [
        "round(total[total['event_name'] == 'purchase_success']['category1_name'].value_counts(normalize=True) * 100, 2).head(5)"
      ]
    },
    {
      "cell_type": "markdown",
      "metadata": {
        "id": "oC_DILqXRkgh"
      },
      "source": [
        "- 购买行为包含75%以上"
      ]
    },
    {
      "cell_type": "markdown",
      "metadata": {
        "id": "A3N9s7a0otq_"
      },
      "source": [
        "### 性别 -> 分类型"
      ]
    },
    {
      "cell_type": "code",
      "execution_count": null,
      "metadata": {
        "colab": {
          "base_uri": "https://localhost:8080/"
        },
        "id": "axrw-VeGott8",
        "outputId": "b8439125-39bf-4662-b3d8-c1dd92170dbe"
      },
      "outputs": [
        {
          "output_type": "execute_result",
          "data": {
            "text/plain": [
              "F    83.9\n",
              "M    16.1\n",
              "Name: gender, dtype: float64"
            ]
          },
          "metadata": {},
          "execution_count": 18
        }
      ],
      "source": [
        "# 男女性别用户的行为占比\n",
        "round(total['gender'].value_counts(normalize=True) * 100, 2)"
      ]
    },
    {
      "cell_type": "code",
      "execution_count": null,
      "metadata": {
        "colab": {
          "base_uri": "https://localhost:8080/"
        },
        "id": "IyOlGU4eUYdM",
        "outputId": "c0b1ec45-a3c3-4719-bac6-afac3bd99f15"
      },
      "outputs": [
        {
          "output_type": "display_data",
          "data": {
            "text/plain": [
              "<Figure size 432x288 with 1 Axes>"
            ],
            "image/png": "[encoded data removed]"
          },
          "metadata": {
            "needs_background": "light"
          }
        }
      ],
      "source": [
        "f,ax = plt.subplots(1,1)\n",
        "sns.countplot(x='gender', data=total)\n",
        "ax.set_title('Female vs Male')\n",
        "plt.show()"
      ]
    },
    {
      "cell_type": "markdown",
      "metadata": {
        "id": "xb5xWfWpUYpP"
      },
      "source": [
        "- 29CM的主要用户为女性，男女行为比例为2：8"
      ]
    },
    {
      "cell_type": "markdown",
      "metadata": {
        "id": "zC7cC4baUYsd"
      },
      "source": [
        "### 年龄"
      ]
    },
    {
      "cell_type": "markdown",
      "metadata": {
        "id": "Y0n_ItFEUYv0"
      },
      "source": [
        "- 通过数据里的出生日期，转换为年龄'age'\n",
        "- 由于数据为2021年 6-8月的数据，因此假设现在为2021年，并计算年龄"
      ]
    },
    {
      "cell_type": "code",
      "execution_count": null,
      "metadata": {
        "id": "Gq0YHQXCSku5"
      },
      "outputs": [],
      "source": [
        "# 出生日期\n",
        "total['birth_date'] = pd.to_datetime(total['birth_date'], errors = 'coerce')\n",
        "\n",
        "# 计算年龄\n",
        "total['age'] = 2021 - total['birth_date'].dt.year"
      ]
    },
    {
      "cell_type": "code",
      "execution_count": null,
      "metadata": {
        "colab": {
          "base_uri": "https://localhost:8080/",
          "height": 297
        },
        "id": "EYNO1GZySkLA",
        "outputId": "4376891e-c7f3-4965-947b-d8fa53b44634"
      },
      "outputs": [
        {
          "output_type": "execute_result",
          "data": {
            "text/plain": [
              "<Axes: xlabel='age', ylabel='Density'>"
            ]
          },
          "metadata": {},
          "execution_count": 21
        },
        {
          "output_type": "display_data",
          "data": {
            "text/plain": [
              "<Figure size 432x288 with 1 Axes>"
            ],
            "image/png": "[encoded data removed]"
          },
          "metadata": {
            "needs_background": "light"
          }
        }
      ],
      "source": [
        "# 年龄分布\n",
        "sns.kdeplot(x='age', data=total)"
      ]
    },
    {
      "cell_type": "markdown",
      "metadata": {
        "id": "RdJYsUQoTBPq"
      },
      "source": [
        "- 确认年龄分布的结果，根据年龄不同，用户行为数差异很大，因此按年龄作为标准进行分类"
      ]
    },
    {
      "cell_type": "code",
      "execution_count": null,
      "metadata": {
        "id": "ASSa-fetUYya"
      },
      "outputs": [],
      "source": [
        "# 年龄分类 （以十岁为单位进行分类）\n",
        "total['年龄分类'] = np.where(total['age'] < 10, 0, # 0-9岁\n",
        "                        np.where(total['age'] < 20, 10, #10来岁\n",
        "                        np.where(total['age'] < 30, 20, #20来岁\n",
        "                        np.where(total['age'] < 40, 30, #30来岁\n",
        "                        np.where(total['age'] < 50, 40, #40来岁\n",
        "                        np.where(total['age'] < 60, 50, #50来岁\n",
        "                        np.where(total['age'] < 70, 60, #60来岁\n",
        "                        np.where(total['age'] < 80, 70, #70来岁\n",
        "                        np.where(total['age'] < 90, 80,90))))))))) #80 & 90来岁"
      ]
    },
    {
      "cell_type": "code",
      "execution_count": null,
      "metadata": {
        "colab": {
          "base_uri": "https://localhost:8080/"
        },
        "id": "8HvfLrUmotxP",
        "outputId": "ba33134f-4fa0-4421-c6ee-f7beaa31e566"
      },
      "outputs": [
        {
          "output_type": "execute_result",
          "data": {
            "text/plain": [
              "20    40.53\n",
              "30    34.96\n",
              "40    14.17\n",
              "90     5.71\n",
              "50     2.77\n",
              "10     1.29\n",
              "60     0.44\n",
              "70     0.12\n",
              "80     0.01\n",
              "0      0.00\n",
              "Name: 年龄分类, dtype: float64"
            ]
          },
          "metadata": {},
          "execution_count": 25
        }
      ],
      "source": [
        "# 根据年龄分类，行为差异\n",
        "round(total['年龄分类'].value_counts(normalize=True) * 100, 2)"
      ]
    },
    {
      "cell_type": "code",
      "execution_count": null,
      "metadata": {
        "colab": {
          "base_uri": "https://localhost:8080/",
          "height": 295
        },
        "id": "O6AzJbym9BYL",
        "outputId": "8139e0cb-9f77-4540-a281-3ff38a8e341d"
      },
      "outputs": [
        {
          "output_type": "display_data",
          "data": {
            "text/plain": [
              "<Figure size 432x288 with 1 Axes>"
            ],
            "image/png": "[encoded data removed]"
          },
          "metadata": {
            "needs_background": "light"
          }
        }
      ],
      "source": [
        "f,ax = plt.subplots(1,1)\n",
        "sns.countplot(x='年龄分类', data=total,order=[0,10,20,30,40,50,60,70,80,90])\n",
        "ax.set_title('年龄分类用户的行为占比')\n",
        "plt.show()"
      ]
    },
    {
      "cell_type": "markdown",
      "metadata": {
        "id": "5NYaiCFg9BbX"
      },
      "source": [
        "- 20、30、40多岁人群是29CM的主要顾客群。\n",
        "- 0-9岁、70多岁、80多岁真的是自己购买的吗?\n",
        "- 90多岁人群占总数的5.7%,很有可能是用户的输入错误,因此今后需要处理。"
      ]
    },
    {
      "cell_type": "markdown",
      "metadata": {
        "id": "TcY9iXFzZPnG"
      },
      "source": [
        "- 确认各年龄段是否有商品种类及品牌等偏好，以年龄段为基准来判断是否正确。\n",
        "- 下面的图表按年龄段列出了行动最多的三个类别。\n",
        "- 年龄段除有异常的90多岁人群外,以TOP4 20-50多岁人群为标准进行划分。"
      ]
    },
    {
      "cell_type": "markdown",
      "metadata": {
        "id": "rFbCcWcxO0UK"
      },
      "source": [
        "### event_timestamp （行为时间）"
      ]
    },
    {
      "cell_type": "code",
      "execution_count": null,
      "metadata": {
        "id": "pN-AvhEhOpwU"
      },
      "outputs": [],
      "source": [
        "# event_timestamp => 转换为 datetime\n",
        "total['event_timestamp'] = pd.to_datetime(total['event_timestamp'], errors = 'coerce')\n",
        "\n",
        "# event_year所有都为2021年，删除\n",
        "# 根据event_timestamp 生成新的时间\n",
        "total['event_month'] = total['event_timestamp'].dt.month\n",
        "total['event_day'] = total['event_timestamp'].dt.day\n",
        "total['event_weekday'] = total['event_timestamp'].dt.dayofweek\n",
        "total['event_hour'] = total['event_timestamp'].dt.hour\n",
        "total['event_minute'] = total['event_timestamp'].dt.minute\n",
        "total['event_timestamp'] = total['event_timestamp'].dt.date"
      ]
    },
    {
      "cell_type": "code",
      "execution_count": null,
      "metadata": {
        "id": "nq_UDbyNOpzL"
      },
      "outputs": [],
      "source": [
        "# object -> datetime\n",
        "total['event_timestamp'] = pd.to_datetime(total['event_timestamp'])\n",
        "\n",
        "# 日期 (6.6 ~ 7.31)\n",
        "total = total[(total['event_timestamp'] >= '2021-06-06') & (total['event_timestamp'] <= '2021-07-31')]"
      ]
    },
    {
      "cell_type": "markdown",
      "metadata": {
        "id": "eeU69W96PXI5"
      },
      "source": [
        "- 本数据为全期21.06.03~21.08.04（9周），但数据未分为准确月份。\n",
        "- 因此，我们试图以2个月的时间作为21.06.06至21.07.31（8周）期间的数据进行数据分析。"
      ]
    },
    {
      "cell_type": "markdown",
      "metadata": {
        "id": "KiqeGtZhHIjp"
      },
      "source": [
        "### 渠道与性别 / 渠道与年龄"
      ]
    },
    {
      "cell_type": "code",
      "execution_count": null,
      "metadata": {
        "colab": {
          "base_uri": "https://localhost:8080/",
          "height": 295
        },
        "id": "Cutoq5A8HIZu",
        "outputId": "1e8b070b-1095-47fb-f829-4af366755c98"
      },
      "outputs": [
        {
          "output_type": "display_data",
          "data": {
            "text/plain": [
              "<Figure size 432x288 with 1 Axes>"
            ],
            "image/png": "[encoded data removed]"
          },
          "metadata": {
            "needs_background": "light"
          }
        }
      ],
      "source": [
        "f,ax = plt.subplots(1,1)\n",
        "sns.countplot(x='platform', hue='gender', data=total)\n",
        "ax.set_title('platform vs gender')\n",
        "plt.show()"
      ]
    },
    {
      "cell_type": "markdown",
      "metadata": {
        "id": "u85z6hUnhqo3"
      },
      "source": [
        "- 29CM主要用户：女性使用苹果的频率很高"
      ]
    },
    {
      "cell_type": "markdown",
      "metadata": {
        "id": "qxW9JmHojxGH"
      },
      "source": [
        "- 如前所述,90多岁的年龄段是存在错误的数据,如果预测这些数据并将其更改为其他值,个人身份的信息非常少,因此转换时会对整体数据产生很大的影响。\n",
        "- **因此,本分析将更加留意20~50多岁人群的行为模式（除了90多岁人群之外,几乎占全部人群）**"
      ]
    },
    {
      "cell_type": "code",
      "execution_count": null,
      "metadata": {
        "colab": {
          "base_uri": "https://localhost:8080/",
          "height": 295
        },
        "id": "oNfShG90HIWj",
        "outputId": "17d158b5-7cf6-41bc-f9f1-df85bc7ccc67"
      },
      "outputs": [
        {
          "output_type": "display_data",
          "data": {
            "text/plain": [
              "<Figure size 432x288 with 1 Axes>"
            ],
            "image/png": "[encoded data removed]"
          },
          "metadata": {
            "needs_background": "light"
          }
        }
      ],
      "source": [
        "# 只取出20-50多岁\n",
        "age_total = total[((total['年龄分类'] == 20) | \n",
        "                   (total['年龄分类'] == 30) |\n",
        "                   (total['年龄分类'] == 40) |\n",
        "                   (total['年龄分类'] == 50))]\n",
        "\n",
        "# 可视化\n",
        "f,ax = plt.subplots(1,1)\n",
        "sns.countplot(x='platform', hue='年龄分类', data=age_total)\n",
        "ax.set_title('platform vs gender')\n",
        "plt.show()"
      ]
    },
    {
      "cell_type": "markdown",
      "metadata": {
        "id": "OX98lT0FjKvu"
      },
      "source": [
        "- 20-30多岁年龄段的苹果使用者非常多\n",
        "- 相反,安卓在20-40多岁年龄段的差异并不大。\n",
        "- 40-50多岁年龄段的安卓用户反而多于苹果用户。\n",
        "\n",
        "\n",
        "\n",
        "=> **整体考虑，使用29CM核心顾客为20~30多岁的女性苹果用户**"
      ]
    },
    {
      "cell_type": "code",
      "source": [
        "total.to_csv('/content/gdrive/MyDrive/final/data/commerce/commerce2.csv', index=False)"
      ],
      "metadata": {
        "id": "mcMPcJDt2xGe"
      },
      "execution_count": null,
      "outputs": []
    }
  ],
  "metadata": {
    "colab": {
      "toc_visible": true,
      "provenance": [],
      "authorship_tag": "ABX9TyPDukyXweSUlwAd+hig+qHZ",
      "include_colab_link": true
    },
    "kernelspec": {
      "display_name": "Python 3",
      "name": "python3"
    },
    "language_info": {
      "name": "python"
    }
  },
  "nbformat": 4,
  "nbformat_minor": 0
}