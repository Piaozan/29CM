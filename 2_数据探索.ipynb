{
  "nbformat": 4,
  "nbformat_minor": 0,
  "metadata": {
    "colab": {
      "provenance": [],
      "toc_visible": true,
      "authorship_tag": "ABX9TyNYGRzReH3izqsggZeJ6Ciu",
      "include_colab_link": true
    },
    "kernelspec": {
      "name": "python3",
      "display_name": "Python 3"
    },
    "language_info": {
      "name": "python"
    }
  },
  "cells": [
    {
      "cell_type": "markdown",
      "metadata": {
        "id": "view-in-github",
        "colab_type": "text"
      },
      "source": [
        "<a href=\"https://colab.research.google.com/github/Piaozan/29CM/blob/main/2_%E6%95%B0%E6%8D%AE%E6%8E%A2%E7%B4%A2.ipynb\" target=\"_parent\"><img src=\"https://colab.research.google.com/assets/colab-badge.svg\" alt=\"Open In Colab\"/></a>"
      ]
    },
    {
      "cell_type": "markdown",
      "source": [
        "# Import & read file"
      ],
      "metadata": {
        "id": "-8Iu0Ht4BFWU"
      }
    },
    {
      "cell_type": "code",
      "source": [
        "import numpy as np\n",
        "import pandas as pd\n",
        "import matplotlib.pyplot as plt\n",
        "import seaborn as sns\n",
        "import time\n",
        "import datetime\n",
        "\n",
        "import warnings\n",
        "warnings.filterwarnings(action='ignore')\n",
        "\n",
        "sns.set_palette(\"RdBu\")\n",
        "\n",
        "pd.set_option('display.max_columns', None)\n",
        "# pd.set_option('display.max_rows', None)"
      ],
      "metadata": {
        "id": "cH30PQ7zCcMn"
      },
      "execution_count": 1,
      "outputs": []
    },
    {
      "cell_type": "code",
      "source": [
        "from google.colab import files\n",
        "from google.colab import drive\n",
        "drive.mount(\"/content/gdrive\")\n",
        "\n",
        "total = pd.read_csv('/content/gdrive/MyDrive/final/data/commerce/commerce.csv')"
      ],
      "metadata": {
        "colab": {
          "base_uri": "https://localhost:8080/"
        },
        "id": "k96JFVaICcS1",
        "outputId": "13ef4f8c-fb72-4fb4-b1e4-0282d6ee816e"
      },
      "execution_count": 2,
      "outputs": [
        {
          "output_type": "stream",
          "name": "stdout",
          "text": [
            "Drive already mounted at /content/gdrive; to attempt to forcibly remount, call drive.mount(\"/content/gdrive\", force_remount=True).\n"
          ]
        }
      ]
    },
    {
      "cell_type": "markdown",
      "source": [
        "# 数据探索"
      ],
      "metadata": {
        "id": "EtNTmyx_CcWv"
      }
    },
    {
      "cell_type": "markdown",
      "metadata": {
        "id": "SXAS1eiZB6OY"
      },
      "source": [
        "## (1) 基础信息"
      ]
    },
    {
      "cell_type": "code",
      "execution_count": null,
      "metadata": {
        "colab": {
          "base_uri": "https://localhost:8080/",
          "height": 297
        },
        "id": "S4TO_wRL7g_u",
        "outputId": "29018539-e6d7-4a49-ab42-4baaf6f0c995"
      },
      "outputs": [
        {
          "output_type": "execute_result",
          "data": {
            "text/plain": [
              "                         session_id             event_timestamp   event_name  \\\n",
              "0  c47e93742387750baba2e238558fa12d     2021-06-03 13:00:01.845   click_item   \n",
              "1  f482aba7e1b76564c5404d96650f0dbd  2021-06-03 13:00:01.920001  add_to_cart   \n",
              "\n",
              "                    user_no                   item_no device_type  \\\n",
              "0  +9eODQMZ8YgXQZJJAo56nw==  4KwsZkXDulM0oQ2sTVSlYQ==      mobile   \n",
              "1  qik2Oa/1SQAjHeR64GLY0g==  +3vED/NUxtVk4Dvc0QUahA==      mobile   \n",
              "\n",
              "  mobile_brand_name mobile_model_name mobile_marketing_name  \\\n",
              "0           Samsung          SM-N960N          Galaxy Note9   \n",
              "1           Samsung          SM-G977N         Galaxy S10 5G   \n",
              "\n",
              "  operating_system_version      country       region platform  \\\n",
              "0               Android 10  South Korea  Gyeonggi-do  ANDROID   \n",
              "1               Android 11  South Korea        Seoul  ANDROID   \n",
              "\n",
              "                                     item_name  \\\n",
              "0                              남성) 코튼 리넨 이지 쇼츠   \n",
              "1  Puppy's delight short sleeve T-shirts white   \n",
              "\n",
              "                         image_name    price  category1_code category1_name  \\\n",
              "0  ecb06f34b6d8c4c521221aebbcc0e934  29900.0       243100100             의류   \n",
              "1  9911a0e7dc8296f2fdccebb3bbbfa615  38000.0       243100100             의류   \n",
              "\n",
              "   category2_code category2_name  category3_code category3_name  brand_no  \\\n",
              "0       243104100             하의       243104101             바지   13901.0   \n",
              "1       243102100             상의       243102103            티셔츠    7604.0   \n",
              "\n",
              "   brand_name  birth_date gender  \n",
              "0      TOPTEN  1969-04-05      F  \n",
              "1  Wave union  1989-02-22      F  "
            ],
            "text/html": [
              "\n",
              "  <div id=\"df-840eafc0-23dd-4e71-90d2-92d63ef04e88\">\n",
              "    <div class=\"colab-df-container\">\n",
              "      <div>\n",
              "<style scoped>\n",
              "    .dataframe tbody tr th:only-of-type {\n",
              "        vertical-align: middle;\n",
              "    }\n",
              "\n",
              "    .dataframe tbody tr th {\n",
              "        vertical-align: top;\n",
              "    }\n",
              "\n",
              "    .dataframe thead th {\n",
              "        text-align: right;\n",
              "    }\n",
              "</style>\n",
              "<table border=\"1\" class=\"dataframe\">\n",
              "  <thead>\n",
              "    <tr style=\"text-align: right;\">\n",
              "      <th></th>\n",
              "      <th>session_id</th>\n",
              "      <th>event_timestamp</th>\n",
              "      <th>event_name</th>\n",
              "      <th>user_no</th>\n",
              "      <th>item_no</th>\n",
              "      <th>device_type</th>\n",
              "      <th>mobile_brand_name</th>\n",
              "      <th>mobile_model_name</th>\n",
              "      <th>mobile_marketing_name</th>\n",
              "      <th>operating_system_version</th>\n",
              "      <th>country</th>\n",
              "      <th>region</th>\n",
              "      <th>platform</th>\n",
              "      <th>item_name</th>\n",
              "      <th>image_name</th>\n",
              "      <th>price</th>\n",
              "      <th>category1_code</th>\n",
              "      <th>category1_name</th>\n",
              "      <th>category2_code</th>\n",
              "      <th>category2_name</th>\n",
              "      <th>category3_code</th>\n",
              "      <th>category3_name</th>\n",
              "      <th>brand_no</th>\n",
              "      <th>brand_name</th>\n",
              "      <th>birth_date</th>\n",
              "      <th>gender</th>\n",
              "    </tr>\n",
              "  </thead>\n",
              "  <tbody>\n",
              "    <tr>\n",
              "      <th>0</th>\n",
              "      <td>c47e93742387750baba2e238558fa12d</td>\n",
              "      <td>2021-06-03 13:00:01.845</td>\n",
              "      <td>click_item</td>\n",
              "      <td>+9eODQMZ8YgXQZJJAo56nw==</td>\n",
              "      <td>4KwsZkXDulM0oQ2sTVSlYQ==</td>\n",
              "      <td>mobile</td>\n",
              "      <td>Samsung</td>\n",
              "      <td>SM-N960N</td>\n",
              "      <td>Galaxy Note9</td>\n",
              "      <td>Android 10</td>\n",
              "      <td>South Korea</td>\n",
              "      <td>Gyeonggi-do</td>\n",
              "      <td>ANDROID</td>\n",
              "      <td>남성) 코튼 리넨 이지 쇼츠</td>\n",
              "      <td>ecb06f34b6d8c4c521221aebbcc0e934</td>\n",
              "      <td>29900.0</td>\n",
              "      <td>243100100</td>\n",
              "      <td>의류</td>\n",
              "      <td>243104100</td>\n",
              "      <td>하의</td>\n",
              "      <td>243104101</td>\n",
              "      <td>바지</td>\n",
              "      <td>13901.0</td>\n",
              "      <td>TOPTEN</td>\n",
              "      <td>1969-04-05</td>\n",
              "      <td>F</td>\n",
              "    </tr>\n",
              "    <tr>\n",
              "      <th>1</th>\n",
              "      <td>f482aba7e1b76564c5404d96650f0dbd</td>\n",
              "      <td>2021-06-03 13:00:01.920001</td>\n",
              "      <td>add_to_cart</td>\n",
              "      <td>qik2Oa/1SQAjHeR64GLY0g==</td>\n",
              "      <td>+3vED/NUxtVk4Dvc0QUahA==</td>\n",
              "      <td>mobile</td>\n",
              "      <td>Samsung</td>\n",
              "      <td>SM-G977N</td>\n",
              "      <td>Galaxy S10 5G</td>\n",
              "      <td>Android 11</td>\n",
              "      <td>South Korea</td>\n",
              "      <td>Seoul</td>\n",
              "      <td>ANDROID</td>\n",
              "      <td>Puppy's delight short sleeve T-shirts white</td>\n",
              "      <td>9911a0e7dc8296f2fdccebb3bbbfa615</td>\n",
              "      <td>38000.0</td>\n",
              "      <td>243100100</td>\n",
              "      <td>의류</td>\n",
              "      <td>243102100</td>\n",
              "      <td>상의</td>\n",
              "      <td>243102103</td>\n",
              "      <td>티셔츠</td>\n",
              "      <td>7604.0</td>\n",
              "      <td>Wave union</td>\n",
              "      <td>1989-02-22</td>\n",
              "      <td>F</td>\n",
              "    </tr>\n",
              "  </tbody>\n",
              "</table>\n",
              "</div>\n",
              "      <button class=\"colab-df-convert\" onclick=\"convertToInteractive('df-840eafc0-23dd-4e71-90d2-92d63ef04e88')\"\n",
              "              title=\"Convert this dataframe to an interactive table.\"\n",
              "              style=\"display:none;\">\n",
              "        \n",
              "  <svg xmlns=\"http://www.w3.org/2000/svg\" height=\"24px\"viewBox=\"0 0 24 24\"\n",
              "       width=\"24px\">\n",
              "    <path d=\"M0 0h24v24H0V0z\" fill=\"none\"/>\n",
              "    <path d=\"M18.56 5.44l.94 2.06.94-2.06 2.06-.94-2.06-.94-.94-2.06-.94 2.06-2.06.94zm-11 1L8.5 8.5l.94-2.06 2.06-.94-2.06-.94L8.5 2.5l-.94 2.06-2.06.94zm10 10l.94 2.06.94-2.06 2.06-.94-2.06-.94-.94-2.06-.94 2.06-2.06.94z\"/><path d=\"M17.41 7.96l-1.37-1.37c-.4-.4-.92-.59-1.43-.59-.52 0-1.04.2-1.43.59L10.3 9.45l-7.72 7.72c-.78.78-.78 2.05 0 2.83L4 21.41c.39.39.9.59 1.41.59.51 0 1.02-.2 1.41-.59l7.78-7.78 2.81-2.81c.8-.78.8-2.07 0-2.86zM5.41 20L4 18.59l7.72-7.72 1.47 1.35L5.41 20z\"/>\n",
              "  </svg>\n",
              "      </button>\n",
              "      \n",
              "  <style>\n",
              "    .colab-df-container {\n",
              "      display:flex;\n",
              "      flex-wrap:wrap;\n",
              "      gap: 12px;\n",
              "    }\n",
              "\n",
              "    .colab-df-convert {\n",
              "      background-color: #E8F0FE;\n",
              "      border: none;\n",
              "      border-radius: 50%;\n",
              "      cursor: pointer;\n",
              "      display: none;\n",
              "      fill: #1967D2;\n",
              "      height: 32px;\n",
              "      padding: 0 0 0 0;\n",
              "      width: 32px;\n",
              "    }\n",
              "\n",
              "    .colab-df-convert:hover {\n",
              "      background-color: #E2EBFA;\n",
              "      box-shadow: 0px 1px 2px rgba(60, 64, 67, 0.3), 0px 1px 3px 1px rgba(60, 64, 67, 0.15);\n",
              "      fill: #174EA6;\n",
              "    }\n",
              "\n",
              "    [theme=dark] .colab-df-convert {\n",
              "      background-color: #3B4455;\n",
              "      fill: #D2E3FC;\n",
              "    }\n",
              "\n",
              "    [theme=dark] .colab-df-convert:hover {\n",
              "      background-color: #434B5C;\n",
              "      box-shadow: 0px 1px 3px 1px rgba(0, 0, 0, 0.15);\n",
              "      filter: drop-shadow(0px 1px 2px rgba(0, 0, 0, 0.3));\n",
              "      fill: #FFFFFF;\n",
              "    }\n",
              "  </style>\n",
              "\n",
              "      <script>\n",
              "        const buttonEl =\n",
              "          document.querySelector('#df-840eafc0-23dd-4e71-90d2-92d63ef04e88 button.colab-df-convert');\n",
              "        buttonEl.style.display =\n",
              "          google.colab.kernel.accessAllowed ? 'block' : 'none';\n",
              "\n",
              "        async function convertToInteractive(key) {\n",
              "          const element = document.querySelector('#df-840eafc0-23dd-4e71-90d2-92d63ef04e88');\n",
              "          const dataTable =\n",
              "            await google.colab.kernel.invokeFunction('convertToInteractive',\n",
              "                                                     [key], {});\n",
              "          if (!dataTable) return;\n",
              "\n",
              "          const docLinkHtml = 'Like what you see? Visit the ' +\n",
              "            '<a target=\"_blank\" href=https://colab.research.google.com/notebooks/data_table.ipynb>data table notebook</a>'\n",
              "            + ' to learn more about interactive tables.';\n",
              "          element.innerHTML = '';\n",
              "          dataTable['output_type'] = 'display_data';\n",
              "          await google.colab.output.renderOutput(dataTable, element);\n",
              "          const docLink = document.createElement('div');\n",
              "          docLink.innerHTML = docLinkHtml;\n",
              "          element.appendChild(docLink);\n",
              "        }\n",
              "      </script>\n",
              "    </div>\n",
              "  </div>\n",
              "  "
            ]
          },
          "metadata": {},
          "execution_count": 6
        }
      ],
      "source": [
        "total.head(2)"
      ]
    },
    {
      "cell_type": "code",
      "execution_count": null,
      "metadata": {
        "colab": {
          "base_uri": "https://localhost:8080/"
        },
        "id": "RGMiOEyM7hDC",
        "outputId": "cae81fb5-3dde-4595-c7f3-8db341b7d272"
      },
      "outputs": [
        {
          "output_type": "execute_result",
          "data": {
            "text/plain": [
              "session_id                        0\n",
              "event_timestamp                   0\n",
              "event_name                        0\n",
              "user_no                           0\n",
              "item_no                           0\n",
              "device_type                       0\n",
              "mobile_brand_name              3594\n",
              "mobile_model_name              3594\n",
              "mobile_marketing_name       4250941\n",
              "operating_system_version          0\n",
              "country                          12\n",
              "region                         2195\n",
              "platform                          0\n",
              "item_name                         0\n",
              "image_name                        0\n",
              "price                             0\n",
              "category1_code                    0\n",
              "category1_name                    0\n",
              "category2_code                    0\n",
              "category2_name                    0\n",
              "category3_code                    0\n",
              "category3_name                    0\n",
              "brand_no                        171\n",
              "brand_name                      209\n",
              "birth_date                   296901\n",
              "gender                       664253\n",
              "dtype: int64"
            ]
          },
          "metadata": {},
          "execution_count": 7
        }
      ],
      "source": [
        "# 缺失值探索\n",
        "total.isnull().sum()"
      ]
    },
    {
      "cell_type": "markdown",
      "metadata": {
        "id": "lhasPwVT7hGC"
      },
      "source": [
        "- mobile_brand_name, mobile_model_name 具有相同缺失值\n",
        "- mobile_marketing_name 由于苹果保护用户隐私问题导致的缺失值\n",
        "- birth_date, gender 具有大量的缺失值\n",
        "- 所有缺失值随后将会处理"
      ]
    },
    {
      "cell_type": "code",
      "execution_count": null,
      "metadata": {
        "colab": {
          "base_uri": "https://localhost:8080/"
        },
        "id": "SpTiwmyG57f2",
        "outputId": "1b40a8b9-6772-4108-8c40-e5da54d136d1"
      },
      "outputs": [
        {
          "output_type": "stream",
          "name": "stdout",
          "text": [
            "<class 'pandas.core.frame.DataFrame'>\n",
            "RangeIndex: 5880407 entries, 0 to 5880406\n",
            "Data columns (total 26 columns):\n",
            " #   Column                    Dtype  \n",
            "---  ------                    -----  \n",
            " 0   session_id                object \n",
            " 1   event_timestamp           object \n",
            " 2   event_name                object \n",
            " 3   user_no                   object \n",
            " 4   item_no                   object \n",
            " 5   device_type               object \n",
            " 6   mobile_brand_name         object \n",
            " 7   mobile_model_name         object \n",
            " 8   mobile_marketing_name     object \n",
            " 9   operating_system_version  object \n",
            " 10  country                   object \n",
            " 11  region                    object \n",
            " 12  platform                  object \n",
            " 13  item_name                 object \n",
            " 14  image_name                object \n",
            " 15  price                     float64\n",
            " 16  category1_code            int64  \n",
            " 17  category1_name            object \n",
            " 18  category2_code            int64  \n",
            " 19  category2_name            object \n",
            " 20  category3_code            int64  \n",
            " 21  category3_name            object \n",
            " 22  brand_no                  float64\n",
            " 23  brand_name                object \n",
            " 24  birth_date                object \n",
            " 25  gender                    object \n",
            "dtypes: float64(2), int64(3), object(21)\n",
            "memory usage: 1.1+ GB\n"
          ]
        }
      ],
      "source": [
        "# info\n",
        "total.info()"
      ]
    },
    {
      "cell_type": "markdown",
      "metadata": {
        "id": "-ZB177G_BaEW"
      },
      "source": [
        "- event_timestamp, birth_date 为时间, 需要改成datetime的形式"
      ]
    },
    {
      "cell_type": "code",
      "execution_count": null,
      "metadata": {
        "colab": {
          "base_uri": "https://localhost:8080/"
        },
        "id": "s9clNzQQ57iw",
        "outputId": "febb8e11-c280-4ef1-bfc6-ccaf9ae638eb"
      },
      "outputs": [
        {
          "output_type": "execute_result",
          "data": {
            "text/plain": [
              "              price  category1_code  category2_code  category3_code  \\\n",
              "count  5.880407e+06    5.880407e+06    5.880407e+06    5.880407e+06   \n",
              "mean   9.465186e+04    2.442333e+08    2.442026e+08    2.442026e+08   \n",
              "std    1.169249e+05    2.390334e+06    2.278878e+06    2.278884e+06   \n",
              "min    0.000000e+00    2.341001e+08    2.341051e+08    2.341051e+08   \n",
              "25%    3.970000e+04    2.431001e+08    2.431021e+08    2.431021e+08   \n",
              "50%    6.900000e+04    2.431001e+08    2.431041e+08    2.431041e+08   \n",
              "75%    1.190000e+05    2.441001e+08    2.441021e+08    2.441021e+08   \n",
              "max    1.429800e+07    2.671001e+08    2.591031e+08    2.591031e+08   \n",
              "\n",
              "           brand_no  \n",
              "count  5.880236e+06  \n",
              "mean   7.254326e+03  \n",
              "std    4.307777e+03  \n",
              "min    4.410000e+02  \n",
              "25%    3.268000e+03  \n",
              "50%    6.513000e+03  \n",
              "75%    1.135900e+04  \n",
              "max    1.573700e+04  "
            ],
            "text/html": [
              "\n",
              "  <div id=\"df-1a4d853b-e2aa-42ea-b987-e0861cf2c25c\">\n",
              "    <div class=\"colab-df-container\">\n",
              "      <div>\n",
              "<style scoped>\n",
              "    .dataframe tbody tr th:only-of-type {\n",
              "        vertical-align: middle;\n",
              "    }\n",
              "\n",
              "    .dataframe tbody tr th {\n",
              "        vertical-align: top;\n",
              "    }\n",
              "\n",
              "    .dataframe thead th {\n",
              "        text-align: right;\n",
              "    }\n",
              "</style>\n",
              "<table border=\"1\" class=\"dataframe\">\n",
              "  <thead>\n",
              "    <tr style=\"text-align: right;\">\n",
              "      <th></th>\n",
              "      <th>price</th>\n",
              "      <th>category1_code</th>\n",
              "      <th>category2_code</th>\n",
              "      <th>category3_code</th>\n",
              "      <th>brand_no</th>\n",
              "    </tr>\n",
              "  </thead>\n",
              "  <tbody>\n",
              "    <tr>\n",
              "      <th>count</th>\n",
              "      <td>5.880407e+06</td>\n",
              "      <td>5.880407e+06</td>\n",
              "      <td>5.880407e+06</td>\n",
              "      <td>5.880407e+06</td>\n",
              "      <td>5.880236e+06</td>\n",
              "    </tr>\n",
              "    <tr>\n",
              "      <th>mean</th>\n",
              "      <td>9.465186e+04</td>\n",
              "      <td>2.442333e+08</td>\n",
              "      <td>2.442026e+08</td>\n",
              "      <td>2.442026e+08</td>\n",
              "      <td>7.254326e+03</td>\n",
              "    </tr>\n",
              "    <tr>\n",
              "      <th>std</th>\n",
              "      <td>1.169249e+05</td>\n",
              "      <td>2.390334e+06</td>\n",
              "      <td>2.278878e+06</td>\n",
              "      <td>2.278884e+06</td>\n",
              "      <td>4.307777e+03</td>\n",
              "    </tr>\n",
              "    <tr>\n",
              "      <th>min</th>\n",
              "      <td>0.000000e+00</td>\n",
              "      <td>2.341001e+08</td>\n",
              "      <td>2.341051e+08</td>\n",
              "      <td>2.341051e+08</td>\n",
              "      <td>4.410000e+02</td>\n",
              "    </tr>\n",
              "    <tr>\n",
              "      <th>25%</th>\n",
              "      <td>3.970000e+04</td>\n",
              "      <td>2.431001e+08</td>\n",
              "      <td>2.431021e+08</td>\n",
              "      <td>2.431021e+08</td>\n",
              "      <td>3.268000e+03</td>\n",
              "    </tr>\n",
              "    <tr>\n",
              "      <th>50%</th>\n",
              "      <td>6.900000e+04</td>\n",
              "      <td>2.431001e+08</td>\n",
              "      <td>2.431041e+08</td>\n",
              "      <td>2.431041e+08</td>\n",
              "      <td>6.513000e+03</td>\n",
              "    </tr>\n",
              "    <tr>\n",
              "      <th>75%</th>\n",
              "      <td>1.190000e+05</td>\n",
              "      <td>2.441001e+08</td>\n",
              "      <td>2.441021e+08</td>\n",
              "      <td>2.441021e+08</td>\n",
              "      <td>1.135900e+04</td>\n",
              "    </tr>\n",
              "    <tr>\n",
              "      <th>max</th>\n",
              "      <td>1.429800e+07</td>\n",
              "      <td>2.671001e+08</td>\n",
              "      <td>2.591031e+08</td>\n",
              "      <td>2.591031e+08</td>\n",
              "      <td>1.573700e+04</td>\n",
              "    </tr>\n",
              "  </tbody>\n",
              "</table>\n",
              "</div>\n",
              "      <button class=\"colab-df-convert\" onclick=\"convertToInteractive('df-1a4d853b-e2aa-42ea-b987-e0861cf2c25c')\"\n",
              "              title=\"Convert this dataframe to an interactive table.\"\n",
              "              style=\"display:none;\">\n",
              "        \n",
              "  <svg xmlns=\"http://www.w3.org/2000/svg\" height=\"24px\"viewBox=\"0 0 24 24\"\n",
              "       width=\"24px\">\n",
              "    <path d=\"M0 0h24v24H0V0z\" fill=\"none\"/>\n",
              "    <path d=\"M18.56 5.44l.94 2.06.94-2.06 2.06-.94-2.06-.94-.94-2.06-.94 2.06-2.06.94zm-11 1L8.5 8.5l.94-2.06 2.06-.94-2.06-.94L8.5 2.5l-.94 2.06-2.06.94zm10 10l.94 2.06.94-2.06 2.06-.94-2.06-.94-.94-2.06-.94 2.06-2.06.94z\"/><path d=\"M17.41 7.96l-1.37-1.37c-.4-.4-.92-.59-1.43-.59-.52 0-1.04.2-1.43.59L10.3 9.45l-7.72 7.72c-.78.78-.78 2.05 0 2.83L4 21.41c.39.39.9.59 1.41.59.51 0 1.02-.2 1.41-.59l7.78-7.78 2.81-2.81c.8-.78.8-2.07 0-2.86zM5.41 20L4 18.59l7.72-7.72 1.47 1.35L5.41 20z\"/>\n",
              "  </svg>\n",
              "      </button>\n",
              "      \n",
              "  <style>\n",
              "    .colab-df-container {\n",
              "      display:flex;\n",
              "      flex-wrap:wrap;\n",
              "      gap: 12px;\n",
              "    }\n",
              "\n",
              "    .colab-df-convert {\n",
              "      background-color: #E8F0FE;\n",
              "      border: none;\n",
              "      border-radius: 50%;\n",
              "      cursor: pointer;\n",
              "      display: none;\n",
              "      fill: #1967D2;\n",
              "      height: 32px;\n",
              "      padding: 0 0 0 0;\n",
              "      width: 32px;\n",
              "    }\n",
              "\n",
              "    .colab-df-convert:hover {\n",
              "      background-color: #E2EBFA;\n",
              "      box-shadow: 0px 1px 2px rgba(60, 64, 67, 0.3), 0px 1px 3px 1px rgba(60, 64, 67, 0.15);\n",
              "      fill: #174EA6;\n",
              "    }\n",
              "\n",
              "    [theme=dark] .colab-df-convert {\n",
              "      background-color: #3B4455;\n",
              "      fill: #D2E3FC;\n",
              "    }\n",
              "\n",
              "    [theme=dark] .colab-df-convert:hover {\n",
              "      background-color: #434B5C;\n",
              "      box-shadow: 0px 1px 3px 1px rgba(0, 0, 0, 0.15);\n",
              "      filter: drop-shadow(0px 1px 2px rgba(0, 0, 0, 0.3));\n",
              "      fill: #FFFFFF;\n",
              "    }\n",
              "  </style>\n",
              "\n",
              "      <script>\n",
              "        const buttonEl =\n",
              "          document.querySelector('#df-1a4d853b-e2aa-42ea-b987-e0861cf2c25c button.colab-df-convert');\n",
              "        buttonEl.style.display =\n",
              "          google.colab.kernel.accessAllowed ? 'block' : 'none';\n",
              "\n",
              "        async function convertToInteractive(key) {\n",
              "          const element = document.querySelector('#df-1a4d853b-e2aa-42ea-b987-e0861cf2c25c');\n",
              "          const dataTable =\n",
              "            await google.colab.kernel.invokeFunction('convertToInteractive',\n",
              "                                                     [key], {});\n",
              "          if (!dataTable) return;\n",
              "\n",
              "          const docLinkHtml = 'Like what you see? Visit the ' +\n",
              "            '<a target=\"_blank\" href=https://colab.research.google.com/notebooks/data_table.ipynb>data table notebook</a>'\n",
              "            + ' to learn more about interactive tables.';\n",
              "          element.innerHTML = '';\n",
              "          dataTable['output_type'] = 'display_data';\n",
              "          await google.colab.output.renderOutput(dataTable, element);\n",
              "          const docLink = document.createElement('div');\n",
              "          docLink.innerHTML = docLinkHtml;\n",
              "          element.appendChild(docLink);\n",
              "        }\n",
              "      </script>\n",
              "    </div>\n",
              "  </div>\n",
              "  "
            ]
          },
          "metadata": {},
          "execution_count": 9
        }
      ],
      "source": [
        "total.describe()"
      ]
    },
    {
      "cell_type": "markdown",
      "metadata": {
        "id": "sI_zD-NE6RmJ"
      },
      "source": [
        "## (2) Feature 分类"
      ]
    },
    {
      "cell_type": "markdown",
      "metadata": {
        "id": "NUKhc8p7BtgH"
      },
      "source": [
        "- 数值型: price\n",
        "- 分类型: event_name, device_type, country, platform, item_name, category1_name, brand_name, gender ......\n",
        "- 时序型: event_timestamp, birth_date"
      ]
    },
    {
      "cell_type": "markdown",
      "metadata": {
        "id": "stcpPyUlHP43"
      },
      "source": [
        "### 用户"
      ]
    },
    {
      "cell_type": "code",
      "execution_count": null,
      "metadata": {
        "colab": {
          "base_uri": "https://localhost:8080/"
        },
        "id": "W3SJlWjeHU5a",
        "outputId": "d137bf83-cbc6-4ce6-f92b-43628ac7455c"
      },
      "outputs": [
        {
          "output_type": "stream",
          "name": "stdout",
          "text": [
            "总用户数:  254958\n",
            "购买用户数: 146904\n",
            "非购买用户数:  108054\n"
          ]
        }
      ],
      "source": [
        "print('总用户数: ',total['user_no'].nunique())\n",
        "print('购买用户数:', total[total['event_name'] == 'purchase_success']['user_no'].nunique())\n",
        "print('非购买用户数: ', total['user_no'].nunique() - total[total['event_name'] == 'purchase_success']['user_no'].nunique())"
      ]
    },
    {
      "cell_type": "markdown",
      "metadata": {
        "id": "IOmAidSCNwnH"
      },
      "source": [
        "### 商品"
      ]
    },
    {
      "cell_type": "code",
      "execution_count": null,
      "metadata": {
        "colab": {
          "base_uri": "https://localhost:8080/"
        },
        "id": "yTrcC5S0Nz9P",
        "outputId": "e8884f36-c1d8-418b-a1df-1aa503e00855"
      },
      "outputs": [
        {
          "output_type": "stream",
          "name": "stdout",
          "text": [
            "总商品数:  283326\n",
            "被购买的商品数: 69498\n",
            "未被购买的商品数:  213828\n"
          ]
        }
      ],
      "source": [
        "print('总商品数: ', total['item_no'].nunique())\n",
        "print('被购买的商品数:', total[total['event_name'] == 'purchase_success']['item_no'].nunique())\n",
        "print('未被购买的商品数: ', total['item_no'].nunique() - total[total['event_name'] == 'purchase_success']['item_no'].nunique())"
      ]
    },
    {
      "cell_type": "markdown",
      "metadata": {
        "id": "P7w10YZSBtjh"
      },
      "source": [
        "### 行为分类 -> 分类型"
      ]
    },
    {
      "cell_type": "code",
      "execution_count": null,
      "metadata": {
        "colab": {
          "base_uri": "https://localhost:8080/",
          "height": 289
        },
        "id": "eGGrh9QXBtmd",
        "outputId": "3d5500c5-2fa9-4095-f171-77836e41d7b3"
      },
      "outputs": [
        {
          "output_type": "display_data",
          "data": {
            "text/plain": [
              "<Figure size 432x288 with 1 Axes>"
            ],
            "image/png": "[encoded data removed]"
          },
          "metadata": {
            "needs_background": "light"
          }
        }
      ],
      "source": [
        "f,ax = plt.subplots(1,1)\n",
        "sns.countplot('event_name', data=total)\n",
        "plt.show()"
      ]
    },
    {
      "cell_type": "markdown",
      "metadata": {
        "id": "azxlQVin6RpC"
      },
      "source": [
        "- 具有大量点击数，随后是支付、购物车、收藏\n",
        "- 以AARRR漏斗模型考虑，一般购买行为将会是最低的，可是本数据的支付行为多于购物车或者收藏\n",
        "- 因此，本数据对此有可能存在一些问题。"
      ]
    },
    {
      "cell_type": "markdown",
      "metadata": {
        "id": "wh2-DvIM6RsQ"
      },
      "source": [
        "### platform（渠道） -> 分类型"
      ]
    },
    {
      "cell_type": "code",
      "execution_count": 5,
      "metadata": {
        "colab": {
          "base_uri": "https://localhost:8080/"
        },
        "id": "DPW1EMw1Plgi",
        "outputId": "50fefe99-0c7f-46e1-f720-4a38fa64fba0"
      },
      "outputs": [
        {
          "output_type": "execute_result",
          "data": {
            "text/plain": [
              "IOS        72.13\n",
              "ANDROID    27.87\n",
              "Name: platform, dtype: float64"
            ]
          },
          "metadata": {},
          "execution_count": 5
        }
      ],
      "source": [
        "round(total['platform'].value_counts(normalize=True) * 100, 2)"
      ]
    },
    {
      "cell_type": "code",
      "execution_count": 3,
      "metadata": {
        "colab": {
          "base_uri": "https://localhost:8080/",
          "height": 290
        },
        "id": "mqQ1yuwa6Rvy",
        "outputId": "5d190bad-cba2-478c-e3c7-254f1f93bb36"
      },
      "outputs": [
        {
          "output_type": "display_data",
          "data": {
            "text/plain": [
              "<Figure size 432x288 with 1 Axes>"
            ],
            "image/png": "[encoded data removed]"
          },
          "metadata": {
            "needs_background": "light"
          }
        }
      ],
      "source": [
        "f,ax = plt.subplots(1,1)\n",
        "sns.countplot(x='platform', data=total)\n",
        "plt.show()"
      ]
    },
    {
      "cell_type": "markdown",
      "metadata": {
        "id": "HK1Y8HKIREeH"
      },
      "source": [
        "- 苹果用户 : 安卓用户 = 7:3"
      ]
    },
    {
      "cell_type": "code",
      "source": [
        "# 渠道与行为结合\n",
        "total.groupby(['platform','event_name'])['event_name'].count()"
      ],
      "metadata": {
        "colab": {
          "base_uri": "https://localhost:8080/"
        },
        "id": "cI2aZUPyDu5v",
        "outputId": "1dd785ff-3d77-4cf7-a4ca-62422167d057"
      },
      "execution_count": 4,
      "outputs": [
        {
          "output_type": "execute_result",
          "data": {
            "text/plain": [
              "platform  event_name      \n",
              "ANDROID   add_to_cart          353143\n",
              "          click_item           956858\n",
              "          like_item            216320\n",
              "          purchase_success     112680\n",
              "IOS       click_item          3888833\n",
              "          purchase_success     352573\n",
              "Name: event_name, dtype: int64"
            ]
          },
          "metadata": {},
          "execution_count": 4
        }
      ]
    },
    {
      "cell_type": "markdown",
      "source": [
        "- 可知，苹果用户数据没有购物车&收藏这个行为\n",
        "- 然而，该电商的70%的用户都为苹果用户\n",
        "- 因此，本分析首先排除购物车以及收藏这个行为的分析，只关注点击与支付该行为"
      ],
      "metadata": {
        "id": "_NyxSyzLDvE_"
      }
    },
    {
      "cell_type": "markdown",
      "metadata": {
        "id": "L26n-3HB6RzO"
      },
      "source": [
        "### 商品分类(第一阶段) -> 分类型"
      ]
    },
    {
      "cell_type": "code",
      "source": [
        "# 把商品分类的韩文改成中文\n",
        "total['category1_name'] = total['category1_name'].map({'의류':'服装', \n",
        "                                                       '잡화':'杂货',\n",
        "                                                       '생활/건강':'生活/健康',\n",
        "                                                       '가구/인테리어':'家居',\n",
        "                                                       '디지털/가전':'数码/家电',\n",
        "                                                       '화장품/미용':'化妆品/美容',\n",
        "                                                       '식품':'食品',\n",
        "                                                       '스포츠/레저':'运动/休闲',\n",
        "                                                       '컬처':'文化',\n",
        "                                                       '키즈':'儿童',\n",
        "                                                       '반려동물':'家畜',\n",
        "                                                       '성년의날':'成人节'})"
      ],
      "metadata": {
        "id": "OOhuM4prJwLn"
      },
      "execution_count": 8,
      "outputs": []
    },
    {
      "cell_type": "code",
      "source": [
        "round(total['category1_name'].value_counts(normalize=True) * 100, 2)"
      ],
      "metadata": {
        "colab": {
          "base_uri": "https://localhost:8080/"
        },
        "id": "XX6J04n-LURS",
        "outputId": "fd9e9643-2115-4ac2-b684-9829c6e6411b"
      },
      "execution_count": 9,
      "outputs": [
        {
          "output_type": "execute_result",
          "data": {
            "text/plain": [
              "服装        60.65\n",
              "杂货        25.15\n",
              "生活/健康      4.49\n",
              "家居         3.59\n",
              "数码/家电      2.33\n",
              "化妆品/美容     1.26\n",
              "食品         0.81\n",
              "运动/休闲      0.75\n",
              "文化         0.56\n",
              "儿童         0.19\n",
              "家畜         0.16\n",
              "成人节        0.06\n",
              "Name: category1_name, dtype: float64"
            ]
          },
          "metadata": {},
          "execution_count": 9
        }
      ]
    },
    {
      "cell_type": "code",
      "execution_count": 11,
      "metadata": {
        "colab": {
          "base_uri": "https://localhost:8080/",
          "height": 316
        },
        "id": "KsgUzswxRkTq",
        "outputId": "ba4713a7-2c5c-4f9e-a7b9-d568246f652a"
      },
      "outputs": [
        {
          "output_type": "display_data",
          "data": {
            "text/plain": [
              "<Figure size 432x288 with 1 Axes>"
            ],
            "image/png": "[encoded data removed]"
          },
          "metadata": {
            "needs_background": "light"
          }
        }
      ],
      "source": [
        "f,ax = plt.subplots(1,1)\n",
        "sns.countplot(x='category1_name', data=total)\n",
        "plt.xticks(rotation=70)\n",
        "plt.show()"
      ]
    },
    {
      "cell_type": "markdown",
      "metadata": {
        "id": "_82-yqo_RkWr"
      },
      "source": [
        "- 可知，服装与杂货类的商品占总用户行为的85%以上"
      ]
    },
    {
      "cell_type": "code",
      "execution_count": 12,
      "metadata": {
        "colab": {
          "base_uri": "https://localhost:8080/"
        },
        "id": "zQKVRW1NRkcz",
        "outputId": "c9e16f66-2279-4824-c2ec-5ce57a474b42"
      },
      "outputs": [
        {
          "output_type": "execute_result",
          "data": {
            "text/plain": [
              "服装       50.26\n",
              "杂货       24.98\n",
              "生活/健康     7.33\n",
              "家居        4.04\n",
              "数码/家电     3.85\n",
              "Name: category1_name, dtype: float64"
            ]
          },
          "metadata": {},
          "execution_count": 12
        }
      ],
      "source": [
        "round(total[total['event_name'] == 'purchase_success']['category1_name'].value_counts(normalize=True) * 100, 2).head(5)"
      ]
    },
    {
      "cell_type": "markdown",
      "metadata": {
        "id": "oC_DILqXRkgh"
      },
      "source": [
        "- 购买行为包含75%以上"
      ]
    },
    {
      "cell_type": "markdown",
      "metadata": {
        "id": "A3N9s7a0otq_"
      },
      "source": [
        "### 性别 -> 分类型"
      ]
    },
    {
      "cell_type": "code",
      "execution_count": 13,
      "metadata": {
        "colab": {
          "base_uri": "https://localhost:8080/"
        },
        "id": "axrw-VeGott8",
        "outputId": "9b9f37d6-1581-4b09-ea12-411964aa5ba3"
      },
      "outputs": [
        {
          "output_type": "execute_result",
          "data": {
            "text/plain": [
              "F    83.9\n",
              "M    16.1\n",
              "Name: gender, dtype: float64"
            ]
          },
          "metadata": {},
          "execution_count": 13
        }
      ],
      "source": [
        "# 男女性别用户的行为占比\n",
        "round(total['gender'].value_counts(normalize=True) * 100, 2)"
      ]
    },
    {
      "cell_type": "code",
      "execution_count": 15,
      "metadata": {
        "colab": {
          "base_uri": "https://localhost:8080/",
          "height": 295
        },
        "id": "IyOlGU4eUYdM",
        "outputId": "b7335a00-5fea-4fea-c80b-d9f8abc25d04"
      },
      "outputs": [
        {
          "output_type": "display_data",
          "data": {
            "text/plain": [
              "<Figure size 432x288 with 1 Axes>"
            ],
            "image/png": "[encoded data removed]"
          },
          "metadata": {
            "needs_background": "light"
          }
        }
      ],
      "source": [
        "f,ax = plt.subplots(1,1)\n",
        "sns.countplot(x='gender', data=total)\n",
        "ax.set_title('Female vs Male')\n",
        "plt.show()"
      ]
    },
    {
      "cell_type": "markdown",
      "source": [
        "- 29CM的主要用户为女性，男女行为比例为2：8"
      ],
      "metadata": {
        "id": "xb5xWfWpUYpP"
      }
    },
    {
      "cell_type": "markdown",
      "source": [
        "### 年龄"
      ],
      "metadata": {
        "id": "zC7cC4baUYsd"
      }
    },
    {
      "cell_type": "markdown",
      "source": [
        "- 通过数据里的出生日期，转换为年龄'age'\n",
        "- 由于数据为2021年 6-8月的数据，因此假设现在为2021年，并计算年龄"
      ],
      "metadata": {
        "id": "Y0n_ItFEUYv0"
      }
    },
    {
      "cell_type": "code",
      "source": [
        "# 出生日期\n",
        "total['birth_date'] = pd.to_datetime(total['birth_date'], errors = 'coerce')\n",
        "\n",
        "# 计算年龄\n",
        "total['age'] = 2021 - total['birth_date'].dt.year"
      ],
      "metadata": {
        "id": "Gq0YHQXCSku5"
      },
      "execution_count": 16,
      "outputs": []
    },
    {
      "cell_type": "code",
      "source": [
        "# 年龄分布\n",
        "sns.kdeplot(x='age', data=total)"
      ],
      "metadata": {
        "colab": {
          "base_uri": "https://localhost:8080/",
          "height": 297
        },
        "id": "EYNO1GZySkLA",
        "outputId": "618d7087-96b1-4b17-81cf-7af3312af741"
      },
      "execution_count": 18,
      "outputs": [
        {
          "output_type": "execute_result",
          "data": {
            "text/plain": [
              "<Axes: xlabel='age', ylabel='Density'>"
            ]
          },
          "metadata": {},
          "execution_count": 18
        },
        {
          "output_type": "display_data",
          "data": {
            "text/plain": [
              "<Figure size 432x288 with 1 Axes>"
            ],
            "image/png": "[encoded data removed]"
          },
          "metadata": {
            "needs_background": "light"
          }
        }
      ]
    },
    {
      "cell_type": "markdown",
      "source": [
        "- 确认年龄分布的结果，根据年龄不同，用户行为数差异很大，因此按年龄作为标准进行分类"
      ],
      "metadata": {
        "id": "RdJYsUQoTBPq"
      }
    },
    {
      "cell_type": "code",
      "execution_count": 20,
      "metadata": {
        "id": "ASSa-fetUYya"
      },
      "outputs": [],
      "source": [
        "# 年龄分类 （以十岁为单位进行分类）\n",
        "total['年龄分类'] = np.where(total['age'] < 10, '0-9', # 0-9岁\n",
        "                        np.where(total['age'] < 20, '10', #10来岁\n",
        "                        np.where(total['age'] < 30, '20', #20来岁\n",
        "                        np.where(total['age'] < 40, '30', #30来岁\n",
        "                        np.where(total['age'] < 50, '40', #40来岁\n",
        "                        np.where(total['age'] < 60, '50', #50来岁\n",
        "                        np.where(total['age'] < 70, '60', #60来岁\n",
        "                        np.where(total['age'] < 80, '70', #70来岁\n",
        "                        np.where(total['age'] < 90, '80','90'))))))))) #80-90来岁"
      ]
    },
    {
      "cell_type": "code",
      "execution_count": 21,
      "metadata": {
        "id": "8HvfLrUmotxP",
        "colab": {
          "base_uri": "https://localhost:8080/"
        },
        "outputId": "3a9a1302-4ea9-4052-cd83-efff4b477ea2"
      },
      "outputs": [
        {
          "output_type": "execute_result",
          "data": {
            "text/plain": [
              "20     40.53\n",
              "30     34.96\n",
              "40     14.17\n",
              "90      5.71\n",
              "50      2.77\n",
              "10      1.29\n",
              "60      0.44\n",
              "70      0.12\n",
              "80      0.01\n",
              "0-9     0.00\n",
              "Name: 年龄分类, dtype: float64"
            ]
          },
          "metadata": {},
          "execution_count": 21
        }
      ],
      "source": [
        "# 根据年龄分类，行为差异\n",
        "round(total['年龄分类'].value_counts(normalize=True) * 100, 2)"
      ]
    },
    {
      "cell_type": "code",
      "source": [
        "f,ax = plt.subplots(1,1)\n",
        "sns.countplot(x='年龄分类', data=total,order=['0-9','10','20','30','40','50','60','70','80','90'])\n",
        "ax.set_title('年龄分类用户的行为占比')\n",
        "plt.show()"
      ],
      "metadata": {
        "colab": {
          "base_uri": "https://localhost:8080/",
          "height": 295
        },
        "id": "O6AzJbym9BYL",
        "outputId": "15d088e0-ad29-4a4c-a996-4fe798cd05f1"
      },
      "execution_count": 22,
      "outputs": [
        {
          "output_type": "display_data",
          "data": {
            "text/plain": [
              "<Figure size 432x288 with 1 Axes>"
            ],
            "image/png": "[encoded data removed]"
          },
          "metadata": {
            "needs_background": "light"
          }
        }
      ]
    },
    {
      "cell_type": "markdown",
      "source": [
        "- 20、30、40多岁人群是29CM的主要顾客群。\n",
        "- 0-9岁、70多岁、80多岁真的是自己购买的吗?\n",
        "- 90多岁人群占总数的5.7%,很有可能是用户的输入错误,因此今后需要处理。"
      ],
      "metadata": {
        "id": "5NYaiCFg9BbX"
      }
    },
    {
      "cell_type": "markdown",
      "source": [
        "- 确认各年龄段是否有商品种类及品牌等偏好，以年龄段为基准来判断是否正确。\n",
        "- 下面的图表按年龄段列出了行动最多的三个类别。\n",
        "- 年龄段除有异常的90多岁人群外,以TOP4 20-50多岁人群为标准进行划分。"
      ],
      "metadata": {
        "id": "TcY9iXFzZPnG"
      }
    },
    {
      "cell_type": "markdown",
      "source": [
        "### event_timestamp （行为时间）"
      ],
      "metadata": {
        "id": "rFbCcWcxO0UK"
      }
    },
    {
      "cell_type": "code",
      "source": [
        "# event_timestamp => 转换为 datetime\n",
        "total['event_timestamp'] = pd.to_datetime(total['event_timestamp'], errors = 'coerce')\n",
        "\n",
        "# event_year所有都为2021年，删除\n",
        "# 根据event_timestamp 生成新的时间\n",
        "total['event_month'] = total['event_timestamp'].dt.month\n",
        "total['event_day'] = total['event_timestamp'].dt.day\n",
        "total['event_weekday'] = total['event_timestamp'].dt.dayofweek\n",
        "total['event_hour'] = total['event_timestamp'].dt.hour\n",
        "total['event_minute'] = total['event_timestamp'].dt.minute\n",
        "total['event_timestamp'] = total['event_timestamp'].dt.date"
      ],
      "metadata": {
        "id": "pN-AvhEhOpwU"
      },
      "execution_count": 31,
      "outputs": []
    },
    {
      "cell_type": "code",
      "source": [
        "# object -> datetime\n",
        "total['event_timestamp'] = pd.to_datetime(total['event_timestamp'])\n",
        "\n",
        "# 日期 (6.6 ~ 7.31)\n",
        "total = total[(total['event_timestamp'] >= '2021-06-06') & (total['event_timestamp'] <= '2021-07-31')]"
      ],
      "metadata": {
        "id": "nq_UDbyNOpzL"
      },
      "execution_count": 32,
      "outputs": []
    },
    {
      "cell_type": "markdown",
      "source": [
        "- 本数据为全期21.06.03~21.08.04（9周），但数据未分为准确月份。\n",
        "- 因此，我们试图以2个月的时间作为21.06.06至21.07.31（8周）期间的数据进行数据分析。"
      ],
      "metadata": {
        "id": "eeU69W96PXI5"
      }
    },
    {
      "cell_type": "markdown",
      "source": [
        "### 渠道与性别 / 渠道与年龄"
      ],
      "metadata": {
        "id": "KiqeGtZhHIjp"
      }
    },
    {
      "cell_type": "code",
      "source": [
        "f,ax = plt.subplots(1,1)\n",
        "sns.countplot(x='platform', hue='gender', data=total)\n",
        "ax.set_title('platform vs gender')\n",
        "plt.show()"
      ],
      "metadata": {
        "colab": {
          "base_uri": "https://localhost:8080/",
          "height": 295
        },
        "id": "Cutoq5A8HIZu",
        "outputId": "2a3da1e8-22a9-4f58-edcb-09ae3dd52c06"
      },
      "execution_count": 34,
      "outputs": [
        {
          "output_type": "display_data",
          "data": {
            "text/plain": [
              "<Figure size 432x288 with 1 Axes>"
            ],
            "image/png": "[encoded data removed]"
          },
          "metadata": {
            "needs_background": "light"
          }
        }
      ]
    },
    {
      "cell_type": "markdown",
      "source": [
        "- 29CM主要用户：女性使用苹果的频率很高"
      ],
      "metadata": {
        "id": "u85z6hUnhqo3"
      }
    },
    {
      "cell_type": "markdown",
      "source": [
        "- 如前所述,90多岁的年龄段是存在错误的数据,如果预测这些数据并将其更改为其他值,个人身份的信息非常少,因此转换时会对整体数据产生很大的影响。\n",
        "- **因此,本分析将更加留意20~50多岁人群的行为模式（除了90多岁人群之外,几乎占全部人群）**"
      ],
      "metadata": {
        "id": "qxW9JmHojxGH"
      }
    },
    {
      "cell_type": "code",
      "source": [
        "# 只取出20-50多岁\n",
        "age_total = total[((total['年龄分类'] == '20') | \n",
        "                   (total['年龄分类'] == '30') |\n",
        "                   (total['年龄分类'] == '40') |\n",
        "                   (total['年龄分类'] == '50'))]\n",
        "\n",
        "# 可视化\n",
        "f,ax = plt.subplots(1,1)\n",
        "sns.countplot(x='platform', hue='年龄分类', data=age_total)\n",
        "ax.set_title('platform vs gender')\n",
        "plt.show()"
      ],
      "metadata": {
        "colab": {
          "base_uri": "https://localhost:8080/",
          "height": 295
        },
        "id": "oNfShG90HIWj",
        "outputId": "919df351-a142-41f3-a16b-b5c8877e2db3"
      },
      "execution_count": 38,
      "outputs": [
        {
          "output_type": "display_data",
          "data": {
            "text/plain": [
              "<Figure size 432x288 with 1 Axes>"
            ],
            "image/png": "[encoded data removed]"
          },
          "metadata": {
            "needs_background": "light"
          }
        }
      ]
    },
    {
      "cell_type": "markdown",
      "source": [
        "- 20-30岁年龄段的苹果使用者非常多\n",
        "- 相反,安卓在20-40岁年龄段的差异并不大。\n",
        "- 40-50岁年龄段的安卓用户反而多于苹果用户。\n",
        "\n",
        "\n",
        "\n",
        "=> **整体考虑，使用29CM核心顾客为20~30多岁的女性苹果用户**"
      ],
      "metadata": {
        "id": "OX98lT0FjKvu"
      }
    }
  ]
}